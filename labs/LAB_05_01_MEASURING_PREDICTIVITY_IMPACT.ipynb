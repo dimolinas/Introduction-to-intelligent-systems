{
  "cells": [
    {
      "cell_type": "markdown",
      "metadata": {
        "id": "30-oQLae-3RG"
      },
      "source": [
        "# LAB 05.01 - Predictions impact"
      ]
    },
    {
      "cell_type": "code",
      "execution_count": 56,
      "metadata": {
        "id": "TLJQahgV-3RL",
        "colab": {
          "base_uri": "https://localhost:8080/",
          "height": 57
        },
        "outputId": "53948044-5b78-4b27-ce17-1c224eab10fc"
      },
      "outputs": [
        {
          "output_type": "display_data",
          "data": {
            "text/plain": [
              "<IPython.core.display.HTML object>"
            ],
            "text/html": [
              "\n",
              "<meta name=\"google-signin-client_id\"\n",
              "      content=\"461673936472-kdjosv61up3ac1ajeuq6qqu72upilmls.apps.googleusercontent.com\"/>\n",
              "<script src=\"https://apis.google.com/js/client:platform.js?onload=google_button_start\"></script>\n",
              "    "
            ]
          },
          "metadata": {}
        },
        {
          "output_type": "execute_result",
          "data": {
            "text/plain": [
              "<IPython.core.display.HTML object>"
            ],
            "text/html": [
              "<h3>See <a href='https://m5knaekxo6.execute-api.us-west-2.amazonaws.com/dev-v0001/rlxmooc/web/login' target='_blank'>my courses and progress</a></h2>"
            ]
          },
          "metadata": {},
          "execution_count": 56
        }
      ],
      "source": [
        "!wget --no-cache -O init.py -q https://raw.githubusercontent.com/fagonzalezo/ai4eng-unal/main/content/init.py\n",
        "import init; init.init(force_download=False); init.get_weblink()\n"
      ]
    },
    {
      "cell_type": "code",
      "execution_count": 58,
      "metadata": {
        "id": "Yc5WZ7Nz-3RN",
        "colab": {
          "base_uri": "https://localhost:8080/",
          "height": 108,
          "referenced_widgets": [
            "7b4f7730aa0a4f0a849bd5d3f9b431c1",
            "97f18cd66afb4e33a99d6431e5cfc0fc",
            "9944afb29729485880cd5a30a92afcf4",
            "da32608f6bb34edea72893b918f49d89",
            "7ff625352e12427e844d2b116e59bf08",
            "4ace5117b43244e4be5ee874add18e01",
            "4198d151ca804166b34ac8dea5b46182",
            "b0299d77de64440caa5aefea1de7c44e",
            "1bf93af5d44b4f149515b50335e2096a",
            "1bba6d1c35f94a428cb78d57e8ebefb5",
            "e155edd4b97649a58f8b4d2921f3c9d5",
            "a9fa313fbb324f1ba3bf4f938627a9cc",
            "e12c6672d416418e9358eee3d135f575",
            "3cafa1b83dc24c7a92be225e74035285",
            "2491cbac57094ed98695fcfe2d267f56",
            "bb4e388d73e4418096c06667771e8090",
            "f42584f681524937a0fc7ddb6dda336a",
            "56d36d3867184b59bb6ff6548b332c2c",
            "b3e00e9d4999426887b4a83a6222dbb9"
          ]
        },
        "outputId": "a1ead0a5-3b67-4e6b-e6c1-81e85ee04551"
      },
      "outputs": [
        {
          "output_type": "stream",
          "name": "stdout",
          "text": [
            "using course session ai4eng.v1.unal::intro_si_2024_2\n",
            "success!! you are logged in\n"
          ]
        },
        {
          "output_type": "display_data",
          "data": {
            "text/plain": [
              "<IPython.core.display.HTML object>"
            ],
            "text/html": [
              "\n",
              "\n",
              "<script>\n",
              "console.log(\"loading...\")\n",
              "function http_post(url, data, callback){\n",
              "\n",
              "    var xhttp = new XMLHttpRequest();\n",
              "\n",
              "    xhttp.onreadystatechange = function() {\n",
              "        if (this.readyState == 4) {\n",
              "            if (this.status!=200) {\n",
              "                var t = JSON.parse(this.responseText)\n",
              "                if (\"error\" in t) {\n",
              "                    window.alert(t[\"error\"])\n",
              "                } else {\n",
              "                    console.log(this.responseText)\n",
              "                    window.alert(\"Unknown error, check the javascript console\")\n",
              "                }\n",
              "            } else {\n",
              "                callback(JSON.parse(this.responseText))\n",
              "            }\n",
              "        }\n",
              "    }    \n",
              "    console.log(\"POSTING TO\", url)\n",
              "    xhttp.open(\"POST\", url, true);\n",
              "    if (typeof data == 'undefined') {\n",
              "        xhttp.send()\n",
              "    } else {\n",
              "        xhttp.setRequestHeader(\"Content-type\", \"application/json\");\n",
              "        xhttp.send( JSON.stringify(data) );    \n",
              "    }\n",
              "}\n",
              "\n",
              "function google_button_start() {\n",
              "      window.google_code = '';\n",
              "      gapi.load('auth2', function() {\n",
              "        auth2 = gapi.auth2.init({\n",
              "          client_id: window.google_client_id,\n",
              "        });\n",
              "      });\n",
              "    }\n",
              "    \n",
              "    \n",
              "function user_info_callback(user_info) {\n",
              "    window.user_info = user_info\n",
              "    window.google_token = user_info['google_token']\n",
              "    var s = \"you are \"+user_info['email'] +\" .... wait for the cell below to complete signup\"\n",
              "    s = '-----------\\n'+s+'\\n-----------'\n",
              "    var cell = Jupyter.notebook.get_cell(window.current_cell_idx)    \n",
              "    cell.clear_output()\n",
              "    cell.output_area.append_output({output_type: \"stream\", text: s, name: \"stdout\"})\n",
              "    IPython.notebook.kernel.execute(\"global google_token; google_token = '\"+window.google_token+\"'\");\n",
              "    insert_login_cell()\n",
              "    var next_cell = Jupyter.notebook.get_cell(window.current_cell_idx+1)    \n",
              "    next_cell.execute()\n",
              "}\n",
              "\n",
              "\n",
              "window.user_info_callback = user_info_callback\n",
              " \n",
              "function insert_login_cell() {\n",
              "\n",
              "    var cell_idx = window.current_cell_idx\n",
              "    var cell = Jupyter.notebook.get_cell(window.current_cell_idx+1)\n",
              "    var next_cell_content = JSON.parse(JSON.stringify(cell))['source']\n",
              "    \n",
              "    s = \"student = session.Session(init.endpoint).login(course_id='ai4eng.v1.unal', lab_id='L05.01', google_token=google_token)\"\n",
              "    if (next_cell_content!==s) {\n",
              "        if (!next_cell_content.includes(\"session.Session\")) {\n",
              "            Jupyter.notebook.insert_cell_below('code', cell_idx)\n",
              "        }\n",
              "        var cell = Jupyter.notebook.get_cell(cell_idx+1)\n",
              "        s = \"student = session.Session(init.endpoint).login(course_id=init.course_id, lab_id='L05.01', google_token=google_token)\"\n",
              "        cell.set_text(s)\n",
              "    }\n",
              "\n",
              "} \n",
              " \n",
              "function google_button_callback(code) {\n",
              "    var cell = Jupyter.notebook.get_cell(window.current_cell_idx)    \n",
              "    cell.clear_output()\n",
              "    cell.output_area.append_output({output_type: \"stream\", text: \"-----------\\nauthenticating ... please wait\\n-----------\", name: \"stdout\"})\n",
              "\n",
              "    window.google_code = code['code']  \n",
              "    \n",
              "    IPython.notebook.kernel.execute(\"global google_code; google_code = '\"+window.google_code+\"'\");\n",
              "    \n",
              "    data = {'google_code': code['code'],\n",
              "            'redirect_uri': window.location.origin}            \n",
              "                        \n",
              "            \n",
              "    r = http_post(\"https://m5knaekxo6.execute-api.us-west-2.amazonaws.com/dev-v0001/rlxmooc/api\"+\"/gu\", data=data, callback=window.user_info_callback)\n",
              "}\n",
              "    \n",
              "</script>\n",
              "\n",
              "<style>\n",
              ".hidden {\n",
              "  visibility: hidden;\n",
              "}\n",
              "\n",
              ".google_button { \n",
              "    color:black ; \n",
              "    font-size:100%;\n",
              "    background: url('https://developers-dot-devsite-v2-prod.appspot.com/identity/sign-in/g-normal.png') transparent 5px 50% no-repeat;\n",
              "    display: inline-block;\n",
              "    width: 200px;\n",
              "    height: 50px;\n",
              "    vertical-align: middle;\n",
              "    border: thin solid #888;\n",
              "    white-space: nowrap;\n",
              "    vertical-align: middle;\n",
              "}\n",
              "\n",
              ".login_button { \n",
              "    color:black ; \n",
              "    font-size:100%;\n",
              "    background: transparent;\n",
              "    display: inline-block;\n",
              "    vertical-align: middle;\n",
              "    border: thin solid #888;\n",
              "    white-space: nowrap;\n",
              "    vertical-align: middle;\n",
              "}\n",
              "</style>\n",
              "        "
            ]
          },
          "metadata": {}
        },
        {
          "output_type": "display_data",
          "data": {
            "text/plain": [
              "HBox(children=(VBox(children=(Text(value='', description='email', layout=Layout(height='25px', width='300px'))…"
            ],
            "application/vnd.jupyter.widget-view+json": {
              "version_major": 2,
              "version_minor": 0,
              "model_id": "7b4f7730aa0a4f0a849bd5d3f9b431c1"
            }
          },
          "metadata": {}
        },
        {
          "output_type": "display_data",
          "data": {
            "text/plain": [
              "<IPython.core.display.Javascript object>"
            ],
            "application/javascript": [
              "\n",
              "        var cell_element = this.element.parents('.cell');\n",
              "        window.current_cell_idx = Jupyter.notebook.get_cell_elements().index(cell_element);    \n",
              "        "
            ]
          },
          "metadata": {}
        }
      ],
      "source": [
        "from local.lib.rlxmoocapi import submit, session\n",
        "session.LoginSequence(endpoint=init.endpoint, course_id=init.course_id, lab_id=\"L05.01\", varname=\"student\");"
      ]
    },
    {
      "cell_type": "code",
      "execution_count": 57,
      "metadata": {
        "id": "JJlwHwxk-3RO"
      },
      "outputs": [],
      "source": []
    },
    {
      "cell_type": "markdown",
      "metadata": {
        "id": "vv3lGqqa-3RO"
      },
      "source": [
        "## Task 1. Compute PNL from strategy\n",
        "\n",
        "observe the following signal `s`, and model trend predictions `p` (not perfect predictions!!)"
      ]
    },
    {
      "cell_type": "code",
      "execution_count": 59,
      "metadata": {
        "id": "kHGwUs4K-3RP",
        "colab": {
          "base_uri": "https://localhost:8080/"
        },
        "outputId": "c47e089d-6bc0-4d79-90b4-fc837f1d76b7"
      },
      "outputs": [
        {
          "output_type": "stream",
          "name": "stdout",
          "text": [
            "(20,) (19,)\n"
          ]
        }
      ],
      "source": [
        "import numpy as np\n",
        "import matplotlib.pyplot as plt\n",
        "import pandas as pd\n",
        "%matplotlib inline\n",
        "s = np.round((np.random.normal(size=20)*5+.5).cumsum()+100,2)\n",
        "p = (np.random.random(size=len(s)-1)>.3).astype(int)\n",
        "print (s.shape, p.shape)"
      ]
    },
    {
      "cell_type": "code",
      "execution_count": 60,
      "metadata": {
        "id": "6qAhlmN9-3RP",
        "outputId": "877358bd-673b-4cd1-990d-8de23820d387",
        "colab": {
          "base_uri": "https://localhost:8080/",
          "height": 500
        }
      },
      "outputs": [
        {
          "output_type": "stream",
          "name": "stdout",
          "text": [
            "SIGNAL     [105.23 101.86  99.45  99.37  90.38  78.97  83.71  83.34  93.71  91.55\n",
            "  93.01  95.99 107.88 112.82 107.31 110.37 111.39 116.78 112.87 105.7 ]\n",
            "PREDICTION [0 1 1 1 0 0 1 1 1 1 1 1 0 1 1 1 1 1 0]\n"
          ]
        },
        {
          "output_type": "display_data",
          "data": {
            "text/plain": [
              "<Figure size 640x480 with 1 Axes>"
            ],
            "image/png": "[encoded data removed]"
          },
          "metadata": {}
        }
      ],
      "source": [
        "\n",
        "plt.plot(s, color=\"black\")\n",
        "plt.scatter(np.arange(len(p))[p==0], s[:-1][p==0], color=\"red\", label=\"prediction down\")\n",
        "plt.scatter(np.arange(len(p))[p==1], s[:-1][p==1], color=\"blue\", label=\"prediction up\")\n",
        "plt.grid(); plt.legend(); plt.xlabel(\"time instant\"); plt.ylabel(\"price\")\n",
        "plt.xticks(range(len(s)), range(len(s)))\n",
        "pd.DataFrame(np.vstack((s,list(p)+[np.nan])), index=[\"signal\", \"prediction\"])\n",
        "print (\"SIGNAL    \", s)\n",
        "print (\"PREDICTION\", p)\n"
      ]
    },
    {
      "cell_type": "markdown",
      "metadata": {
        "id": "IU52Ku0N-3RR"
      },
      "source": [
        "fill in the `pnl` variable below with a list of 19 values corresponding on applying the same strategy as in the notes, buying or selling always ONE money unit:\n",
        "\n",
        "- if the prediction is zero, we believe the price is going down, so we sell ONE money unit at the current price and buy it at the next instant of time\n",
        "- if the prediction is one, we do the opposite\n",
        "- BUT there is a **commission** of 1%, applied on the instant you make the first operation (which uses the current price)\n",
        "\n",
        "observe that there are 20 signal points, and 19 predictions.\n",
        "\n",
        "you can use your tool of choice (Excel, Python, etc.) to compute your answer\n",
        "\n",
        "**HINT**: Understand each component of the expression for `perfect_prediction` below to try to obtain your answer with Python."
      ]
    },
    {
      "cell_type": "markdown",
      "metadata": {
        "id": "oI27KMd8-3RR"
      },
      "source": [
        "\n",
        "\n",
        "**For instance**: the following signal and predictions:"
      ]
    },
    {
      "cell_type": "code",
      "execution_count": 61,
      "metadata": {
        "id": "4cSVfuDX-3RS",
        "outputId": "626b9eba-014a-4aa9-9533-2a5552f420b0",
        "colab": {
          "base_uri": "https://localhost:8080/",
          "height": 294
        }
      },
      "outputs": [
        {
          "output_type": "execute_result",
          "data": {
            "image/png": "[encoded data removed]",
            "text/plain": [
              "<IPython.core.display.Image object>"
            ]
          },
          "metadata": {
            "image/png": {
              "width": 600
            }
          },
          "execution_count": 61
        }
      ],
      "source": [
        "\n",
        "from IPython.display import Image\n",
        "Image(\"local/imgs/timeseries-prediction.png\", width=600)\n"
      ]
    },
    {
      "cell_type": "markdown",
      "metadata": {
        "id": "HBnLd05C-3RS"
      },
      "source": [
        "produce the following set of PNL\n",
        "\n",
        "     2.65 7.86 -0.31 7.48 2.61 2.19 1.33 -2.08 -2.71 -2.88 0.42 -5.39 3.03 1.53 3.45 9.88 10.70 -7.69 -0.60\n",
        "     \n",
        "- at `t=0` the PNL is $(107.06-103.38)\\times 1 - 103.38\\times 1 \\times .01=2.65$, since the prediction was correct\n",
        "- at `t=2` the PNL is $(116.84-115.99)\\times 1 - 115.99\\times 1 \\times .01=-0.31$, since the prediction was correct, BUT the price difference is small and the commission overcomes the profit.\n",
        "- at `t=7` the PNL is $(111.76 - 112.71)\\times1 - 112.71\\times1\\times.01=-2.08$, since the prediction was incorrect\n",
        "\n",
        "\n",
        "in the expressions above, the first term is the net profit or loss, and the second one is due to the commission. Multiplication by $1$ simply signals we are trading ONE unit."
      ]
    },
    {
      "cell_type": "markdown",
      "metadata": {
        "id": "6BA_aOAz-3RT"
      },
      "source": [
        "also, observe that the following python code, will generate a perfect prediction signal, which, when applied to our strategy, will result in a list of all positive PNLs."
      ]
    },
    {
      "cell_type": "code",
      "execution_count": 62,
      "metadata": {
        "id": "8gYn0qxL-3RT",
        "colab": {
          "base_uri": "https://localhost:8080/"
        },
        "outputId": "6e552c99-bf7f-472b-a0e6-0cbae3d6a86e"
      },
      "outputs": [
        {
          "output_type": "execute_result",
          "data": {
            "text/plain": [
              "array([0, 0, 0, 0, 0, 1, 0, 1, 0, 1, 1, 1, 1, 0, 1, 1, 1, 0, 0])"
            ]
          },
          "metadata": {},
          "execution_count": 62
        }
      ],
      "source": [
        "perfect_prediction = (s[1:]>s[:-1]).astype(int)\n",
        "perfect_prediction"
      ]
    },
    {
      "cell_type": "markdown",
      "metadata": {
        "id": "y18SJtpl-3RU"
      },
      "source": [
        "**CHALLENGE 1** (not mandatory): make your answer in python\n",
        "\n",
        "**hints**:\n",
        "\n",
        "    s[1:]            will give you all elements of s except the first one\n",
        "    s[:-1]           will give you all elements of s except the last one\n",
        "    s[1:] - s[:-1]   will give you the difference of price in one time with respect to the next one\n",
        "    (p-0.5)*2        will convert vector p (containing 0's and 1's) into a vector of -1's and +1's"
      ]
    },
    {
      "cell_type": "code",
      "execution_count": 63,
      "metadata": {
        "id": "YxWXd_la-3RV",
        "colab": {
          "base_uri": "https://localhost:8080/"
        },
        "outputId": "f0340c4f-656a-4763-c96d-1e2acb31bde0"
      },
      "outputs": [
        {
          "output_type": "execute_result",
          "data": {
            "text/plain": [
              "((20,), (19,))"
            ]
          },
          "metadata": {},
          "execution_count": 63
        }
      ],
      "source": [
        "s_learn = np.array([103.38, 107.06, 115.99, 116.84, 108.19, 111.88, 115.19, 112.71, 111.76, 113.35, 111.6, 113.14, 108.88, 113.0, 110.34, 114.89, 125.92, 137.88, 131.57, 130.85])\n",
        "prediction = np.array([1, 1, 1, 0, 1, 1, 0, 1, 0, 1, 1, 1, 1, 0, 1, 1, 1, 1, 0])\n",
        "s_learn.shape, prediction.shape\n"
      ]
    },
    {
      "cell_type": "code",
      "execution_count": 64,
      "metadata": {
        "id": "2EbSmf8e-3RV",
        "colab": {
          "base_uri": "https://localhost:8080/"
        },
        "outputId": "b5c32c0a-f47a-4715-8d9e-cd6107ac9835"
      },
      "outputs": [
        {
          "output_type": "execute_result",
          "data": {
            "text/plain": [
              "array([ 2.6462,  7.8594, -0.3099,  7.4816,  2.6081,  2.1912,  1.3281,\n",
              "       -2.0771, -2.7076, -2.8835,  0.424 , -5.3914,  3.0312,  1.53  ,\n",
              "        3.4466,  9.8811, 10.7008, -7.6888, -0.5957])"
            ]
          },
          "metadata": {},
          "execution_count": 64
        }
      ],
      "source": [
        "pnl = ((s_learn[1:] - s_learn[:-1]) * (prediction - 0.5) * 2) - s_learn[:-1] * 0.01\n",
        "pnl"
      ]
    },
    {
      "cell_type": "code",
      "execution_count": 65,
      "metadata": {
        "id": "HPo7ygdd-3RV",
        "colab": {
          "base_uri": "https://localhost:8080/"
        },
        "outputId": "b3e4d404-a085-48a1-9409-904703a62439"
      },
      "outputs": [
        {
          "output_type": "execute_result",
          "data": {
            "text/plain": [
              "(array([105.23, 101.86,  99.45,  99.37,  90.38,  78.97,  83.71,  83.34,\n",
              "         93.71,  91.55,  93.01,  95.99, 107.88, 112.82, 107.31, 110.37,\n",
              "        111.39, 116.78, 112.87, 105.7 ]),\n",
              " array([0, 1, 1, 1, 0, 0, 1, 1, 1, 1, 1, 1, 0, 1, 1, 1, 1, 1, 0]))"
            ]
          },
          "metadata": {},
          "execution_count": 65
        }
      ],
      "source": [
        "s, p"
      ]
    },
    {
      "cell_type": "markdown",
      "metadata": {
        "id": "GFBP9Dg--3RV"
      },
      "source": [
        "**fill in the following variable**"
      ]
    },
    {
      "cell_type": "code",
      "execution_count": 66,
      "metadata": {
        "id": "bUJmEijx-3RW",
        "colab": {
          "base_uri": "https://localhost:8080/"
        },
        "outputId": "13af726e-ff4d-46e7-e7b8-58ee057a1b4f"
      },
      "outputs": [
        {
          "output_type": "execute_result",
          "data": {
            "text/plain": [
              "array([ 2.3177, -3.4286, -1.0745, -9.9837, 10.5062, -5.5297, -1.2071,\n",
              "        9.5366, -3.0971,  0.5445,  2.0499, 10.9301, -6.0188, -6.6382,\n",
              "        1.9869, -0.0837,  4.2761, -5.0778,  6.0413])"
            ]
          },
          "metadata": {},
          "execution_count": 66
        }
      ],
      "source": [
        "pnl = ((s[1:] - s[:-1]) * (p - 0.5) * 2) - s[:-1] * 0.01\n",
        "pnl"
      ]
    },
    {
      "cell_type": "code",
      "execution_count": 11,
      "metadata": {
        "id": "XKejIOvO-3RW"
      },
      "outputs": [],
      "source": []
    },
    {
      "cell_type": "code",
      "execution_count": 11,
      "metadata": {
        "id": "GaAGPs2B-3RW"
      },
      "outputs": [],
      "source": []
    },
    {
      "cell_type": "code",
      "execution_count": 11,
      "metadata": {
        "id": "exdeyVk1-3RW"
      },
      "outputs": [],
      "source": []
    },
    {
      "cell_type": "markdown",
      "metadata": {
        "id": "sNNDH_cX-3RW"
      },
      "source": [
        "**submit your answer**"
      ]
    },
    {
      "cell_type": "code",
      "execution_count": 67,
      "metadata": {
        "scrolled": false,
        "id": "C9lDfYly-3RX",
        "colab": {
          "base_uri": "https://localhost:8080/",
          "height": 109
        },
        "outputId": "4a736903-1b0f-4352-cea4-9e6a44d49b44"
      },
      "outputs": [
        {
          "output_type": "display_data",
          "data": {
            "text/plain": [
              "<IPython.core.display.HTML object>"
            ],
            "text/html": [
              "\n",
              "                    <b>task_01 submitted.</b> <b><font color=\"blue\">your grade is 5</font></b> \n",
              "                    <p/><pre>----- grader message -------</pre><b>correct</b><pre>----------------------------</pre>\n",
              "                    <p/><p/>\n",
              "                    <div style=\"font-size:10px\"><b>SUBMISSION CODE</b> Z9JrnAQk1wbKbIZGbL1/TJbKIqHxzSpF6P3JnQpVANxwmfjcThtAyK/xuE0sns5TT1ZBVkR8mhkNmS823qsO1ZGX1Iqw7LTvZXbBnRk/4Dwo7Wp3q/i4yaz4pv9csUrYAJYEPUnWo99y8F0IEo3ynnuETyXtORl1e1VaTZHoLPA=</div>\n",
              "                    "
            ]
          },
          "metadata": {}
        }
      ],
      "source": [
        "student.submit_task(globals(), task_id=\"task_01\");"
      ]
    },
    {
      "cell_type": "code",
      "execution_count": null,
      "metadata": {
        "id": "8_1HKnK0-3RY"
      },
      "outputs": [],
      "source": []
    },
    {
      "cell_type": "code",
      "execution_count": null,
      "metadata": {
        "id": "4-FnnNWz-3RY"
      },
      "outputs": [],
      "source": []
    },
    {
      "cell_type": "markdown",
      "metadata": {
        "id": "IMF7FafG-3RY"
      },
      "source": [
        "## Task 2: Simulated prediction signal"
      ]
    },
    {
      "cell_type": "markdown",
      "metadata": {
        "id": "XHtfBMyW-3RZ"
      },
      "source": [
        "given the following signal, produce a synthetic prediction signal with the given percentage of correct predictions.\n",
        "\n",
        "observe that `s` has length 21, but your synthetic prediction will have a length of 20.\n",
        "\n",
        "fill in the variable `prediction`, with a list with 20 zeros or ones, containing a prediction with `acc` correct predictions.\n",
        "\n",
        "for instance, with the following signal\n",
        "\n",
        "        [100.37 102.92 102.69 104.57 105.06  97.9  103.   100.32  97.59 107.07\n",
        "         112.19 106.32 104.14 100.3   97.03 107.28 100.36 100.99 111.48 117.07\n",
        "         126.04]\n",
        "         \n",
        "the following predictions:\n",
        "\n",
        "        p = [1, 0, 1, 0, 0, 1, 1, 1, 1, 1, 1, 0, 0, 1, 1, 0, 0, 1, 0, 0]\n",
        "        \n",
        "produce a trend prediction accuracy of 60% (`acc=0.6`)\n",
        "\n",
        "**HINT**: Do it in Python\n",
        "\n",
        "- use the perfect prediction from the exercise above to start with.\n",
        "- use `np.random.permutation`\n",
        "\n",
        "for instance:"
      ]
    },
    {
      "cell_type": "code",
      "execution_count": 68,
      "metadata": {
        "id": "HBpFtpPF-3RZ",
        "outputId": "3bf0008d-be53-43b1-eb4c-5eb7bf1d9b64",
        "colab": {
          "base_uri": "https://localhost:8080/"
        }
      },
      "outputs": [
        {
          "output_type": "stream",
          "name": "stdout",
          "text": [
            "[4 5 3]\n"
          ]
        },
        {
          "output_type": "execute_result",
          "data": {
            "text/plain": [
              "array([10, 20, 30, 41, 51, 61, 70, 80, 90])"
            ]
          },
          "metadata": {},
          "execution_count": 68
        }
      ],
      "source": [
        "\n",
        "# a list\n",
        "a = np.r_[10,20,30,40,50,60,70,80,90]\n",
        "\n",
        "# 3 positions randomly chosen\n",
        "k = np.random.permutation(len(a)-1)[:3]\n",
        "print (k)\n",
        "\n",
        "# changing the value of the items on those positions\n",
        "a[k] = a[k] + 1\n",
        "a\n"
      ]
    },
    {
      "cell_type": "code",
      "execution_count": 55,
      "metadata": {
        "id": "hFI1siG1-3Ra",
        "colab": {
          "base_uri": "https://localhost:8080/"
        },
        "outputId": "e9175f8d-5c0e-483e-a6cd-450c0df15c16"
      },
      "outputs": [
        {
          "output_type": "execute_result",
          "data": {
            "text/plain": [
              "20"
            ]
          },
          "metadata": {},
          "execution_count": 55
        }
      ],
      "source": []
    },
    {
      "cell_type": "markdown",
      "metadata": {
        "id": "nwutW727-3Ra"
      },
      "source": [
        "**your signal and target accuracy to achieve**"
      ]
    },
    {
      "cell_type": "code",
      "execution_count": 69,
      "metadata": {
        "id": "t21Jnm3r-3Rb",
        "outputId": "5e5777d6-20ba-4013-8f6f-506eadc69d13",
        "colab": {
          "base_uri": "https://localhost:8080/"
        }
      },
      "outputs": [
        {
          "output_type": "stream",
          "name": "stdout",
          "text": [
            "YOUR SIGNAL [102.4   98.82 103.07 110.1  109.2  106.48 109.65 111.35 109.81 115.35\n",
            " 116.38 117.06 116.56 115.54 119.31 115.91 121.26 127.7  128.98 127.29\n",
            " 122.14]\n",
            "THE ACCURACY YOUR SYNTHETIC PREDICTIONS MUST ACHIEVE:  0.9\n"
          ]
        }
      ],
      "source": [
        "\n",
        "s = ((np.random.normal(size=21)*5+.5).cumsum()+100).round(2)\n",
        "acc = np.round(np.random.random()*.9+.1, 1)\n",
        "print (\"YOUR SIGNAL\", s)\n",
        "print (\"THE ACCURACY YOUR SYNTHETIC PREDICTIONS MUST ACHIEVE: \", acc)\n"
      ]
    },
    {
      "cell_type": "code",
      "execution_count": 80,
      "metadata": {
        "id": "ZQt4a1Wl-3Rc",
        "colab": {
          "base_uri": "https://localhost:8080/"
        },
        "outputId": "cfbaaa0f-f1d2-42a0-aee1-8dffd5be78fa"
      },
      "outputs": [
        {
          "output_type": "execute_result",
          "data": {
            "text/plain": [
              "array([0, 1, 1, 0, 0, 1, 1, 0, 1, 1, 1, 0, 0, 1, 1, 1, 0, 1, 0, 0])"
            ]
          },
          "metadata": {},
          "execution_count": 80
        }
      ],
      "source": [
        "perfect_prediction = (s[1:]>s[:-1]).astype(int)\n",
        "#s[1:] = s[i+1]\n",
        "#s[:-1] = s[i]\n",
        "\n",
        "changes = len(perfect_prediction) - int(len(perfect_prediction) * acc)\n",
        "k = np.random.permutation(len(perfect_prediction)-1)[:changes]\n",
        "\n",
        "tmp = perfect_prediction.copy().astype(bool)\n",
        "tmp[k] = np.logical_not(tmp[k])\n",
        "my_synthetic_prediction = tmp.astype(int)\n",
        "my_synthetic_prediction"
      ]
    },
    {
      "cell_type": "code",
      "source": [
        "perfect_prediction"
      ],
      "metadata": {
        "colab": {
          "base_uri": "https://localhost:8080/"
        },
        "id": "XfN2uvw0QZKt",
        "outputId": "db2a6af0-3367-4568-dfcb-848f6b9350a9"
      },
      "execution_count": 81,
      "outputs": [
        {
          "output_type": "execute_result",
          "data": {
            "text/plain": [
              "array([0, 1, 1, 0, 0, 1, 1, 0, 1, 1, 1, 0, 0, 1, 0, 1, 1, 1, 0, 0])"
            ]
          },
          "metadata": {},
          "execution_count": 81
        }
      ]
    },
    {
      "cell_type": "code",
      "execution_count": null,
      "metadata": {
        "id": "DNbbv0KF-3Rd"
      },
      "outputs": [],
      "source": []
    },
    {
      "cell_type": "markdown",
      "metadata": {
        "id": "8u8NOlaj-3Re"
      },
      "source": [
        "**submit your answer**"
      ]
    },
    {
      "cell_type": "code",
      "execution_count": 82,
      "metadata": {
        "scrolled": true,
        "id": "BKX1UKX6-3Re",
        "colab": {
          "base_uri": "https://localhost:8080/",
          "height": 109
        },
        "outputId": "d05977bc-84e1-4a82-90dc-3caaffb73646"
      },
      "outputs": [
        {
          "output_type": "display_data",
          "data": {
            "text/plain": [
              "<IPython.core.display.HTML object>"
            ],
            "text/html": [
              "\n",
              "                    <b>task_02 submitted.</b> <b><font color=\"blue\">your grade is 5</font></b> \n",
              "                    <p/><pre>----- grader message -------</pre><b>correct</b><pre>----------------------------</pre>\n",
              "                    <p/><p/>\n",
              "                    <div style=\"font-size:10px\"><b>SUBMISSION CODE</b> MdslbKocWulaW2U08ajP/umuulM9ohOtqxYaCC0Fml0t1oZYRkdorHmGtq7ISjivD4Zcko9rHvj2TFU+eBv8cAKPz9aOPhxUwCVSCT4ljUscuvxRmGIRClFhDP5qi1kSszRCZMw9Yxs09aBUh7l/XXWzmANAg7nKVuMmcy+Xg9c=</div>\n",
              "                    "
            ]
          },
          "metadata": {}
        }
      ],
      "source": [
        "student.submit_task(globals(), task_id=\"task_02\");"
      ]
    },
    {
      "cell_type": "code",
      "execution_count": null,
      "metadata": {
        "id": "ycrhv7ia-3Rf"
      },
      "outputs": [],
      "source": []
    },
    {
      "cell_type": "markdown",
      "metadata": {
        "id": "JcYPrIm2-3Rf"
      },
      "source": [
        "## Task 3: ML Metric vs Business Metric\n",
        "\n",
        "now, your are given a signal (length=21) and you will have to create\n",
        "\n",
        "- an array of 9 rows x 20 columns with synthetic predictions so that the first row (row number zero in python) has accuracy of 10%, the second has 20%, etc.\n",
        "- a list of 9 numbers containing the PNL of using the synthetic predictions on the above array as input for a trading strategy.\n",
        "\n",
        "for instance, for this signal:\n",
        "\n",
        "    [101.33,  96.75,  98.2 ,  95.3 ,  97.96,  98.75,  92.46,  82.2 , 78.61,  80.  ,  \n",
        "      88.78,  98.72, 103.22, 113.65, 103.89, 107.36, 114.6 , 103.9 , 108.71, 104.2 , 107.8 ]\n",
        "\n",
        "you will have to create the following variables:\n",
        "\n",
        "    pset = np.array([[1, 1, 1, 0, 0, 1, 1, 1, 0, 0, 0, 0, 0, 1, 1, 0, 1, 0, 1, 0],\n",
        "                     [1, 0, 1, 0, 0, 1, 1, 1, 0, 1, 0, 1, 1, 1, 0, 1, 1, 0, 1, 0],\n",
        "                     [1, 0, 0, 0, 0, 0, 1, 1, 0, 1, 0, 1, 0, 1, 0, 1, 1, 0, 0, 0],\n",
        "                     [1, 0, 0, 0, 0, 1, 1, 1, 1, 1, 0, 1, 1, 1, 1, 1, 1, 0, 1, 1],\n",
        "                     [1, 1, 0, 0, 0, 0, 0, 0, 0, 0, 1, 1, 1, 0, 0, 0, 1, 0, 0, 0],\n",
        "                     [0, 1, 0, 1, 1, 1, 0, 0, 1, 1, 0, 0, 1, 1, 0, 0, 1, 1, 0, 0],\n",
        "                     [0, 1, 1, 0, 1, 0, 1, 0, 1, 1, 1, 1, 0, 0, 0, 1, 0, 1, 1, 1],\n",
        "                     [0, 1, 0, 1, 1, 0, 1, 0, 1, 1, 1, 1, 1, 0, 0, 0, 0, 1, 1, 1],\n",
        "                     [0, 1, 0, 0, 1, 0, 0, 0, 1, 1, 1, 1, 1, 0, 1, 1, 0, 0, 0, 1]])\n",
        "\n",
        "    \n",
        "    pnl = np.array([-121.5, -69.44, -62.90, -46.72, -4.08, -19.04, 23.5, 41.0, 77.02])\n",
        "    \n",
        "**NOTE**: Specify your PNL rounded to **TWO** decimal places"
      ]
    },
    {
      "cell_type": "code",
      "execution_count": 16,
      "metadata": {
        "id": "NoefoUHQ-3Rg",
        "colab": {
          "base_uri": "https://localhost:8080/"
        },
        "outputId": "0ba8e766-6fcb-4d23-f003-801d41eea77b"
      },
      "outputs": [
        {
          "output_type": "execute_result",
          "data": {
            "text/plain": [
              "array([103.08, 101.4 , 105.5 , 100.03,  97.46,  91.7 ,  86.26,  79.95,\n",
              "        81.68,  81.78,  88.14,  86.74,  89.68,  84.92,  80.5 ,  86.35,\n",
              "        96.41, 103.1 ,  95.41,  89.62,  98.7 ])"
            ]
          },
          "metadata": {},
          "execution_count": 16
        }
      ],
      "source": [
        "s = ((np.random.normal(size=21)*5+.5).cumsum()+100).round(2)\n",
        "s"
      ]
    },
    {
      "cell_type": "code",
      "execution_count": 20,
      "metadata": {
        "id": "bhfOPgvg-3Rh",
        "colab": {
          "base_uri": "https://localhost:8080/"
        },
        "outputId": "84f8a592-c880-449c-8e2c-fe2d27d301f0"
      },
      "outputs": [
        {
          "output_type": "execute_result",
          "data": {
            "text/plain": [
              "array([0, 1, 0, 0, 0, 0, 0, 1, 1, 1, 0, 1, 0, 0, 1, 1, 1, 0, 0, 1])"
            ]
          },
          "metadata": {},
          "execution_count": 20
        }
      ],
      "source": [
        "perfect_prediction = (s[1:]>s[:-1]).astype(int)\n",
        "perfect_prediction"
      ]
    },
    {
      "cell_type": "code",
      "source": [
        "def calculate_pnl(signal, prediction):\n",
        "  return sum(((signal[1:] - signal[:-1]) * (prediction- 0.5) * 2) - signal[:-1] * 0.01)"
      ],
      "metadata": {
        "id": "lvhnMGx8JNur"
      },
      "execution_count": 96,
      "outputs": []
    },
    {
      "cell_type": "code",
      "execution_count": 97,
      "metadata": {
        "id": "TPDSXjKA-3Ri",
        "colab": {
          "base_uri": "https://localhost:8080/"
        },
        "outputId": "4a5d97e4-b0a8-4f11-c946-b7fcb936ae63"
      },
      "outputs": [
        {
          "output_type": "execute_result",
          "data": {
            "text/plain": [
              "(9, 20)"
            ]
          },
          "metadata": {},
          "execution_count": 97
        }
      ],
      "source": [
        "perfect_prediction = perfect_prediction.astype(bool)\n",
        "pset = []\n",
        "ks = []\n",
        "pnl = []\n",
        "\n",
        "for row in range(1, 10):\n",
        "  acc = row / 10\n",
        "  changes = len(perfect_prediction) - int(len(perfect_prediction) * acc)\n",
        "  k = np.random.permutation(len(perfect_prediction) - 1)[: changes]\n",
        "\n",
        "  tmp = perfect_prediction.copy()\n",
        "  tmp[k] = np.logical_not(tmp[k])\n",
        "  prediction = tmp.astype(int)\n",
        "\n",
        "\n",
        "  pset.append(prediction)\n",
        "  pnl.append(calculate_pnl(s, prediction))\n",
        "\n",
        "pset = np.array(pset)\n",
        "pset.shape\n",
        "\n",
        "\n",
        ""
      ]
    },
    {
      "cell_type": "code",
      "source": [
        "perfect_prediction.astype(int)"
      ],
      "metadata": {
        "colab": {
          "base_uri": "https://localhost:8080/"
        },
        "id": "2wOANgL5IY1E",
        "outputId": "5c0182c1-e840-49cf-a581-48d462d004b2"
      },
      "execution_count": 98,
      "outputs": [
        {
          "output_type": "execute_result",
          "data": {
            "text/plain": [
              "array([0, 1, 1, 0, 0, 1, 1, 0, 1, 1, 1, 0, 0, 1, 0, 1, 1, 1, 0, 0])"
            ]
          },
          "metadata": {},
          "execution_count": 98
        }
      ]
    },
    {
      "cell_type": "code",
      "source": [
        "pset"
      ],
      "metadata": {
        "colab": {
          "base_uri": "https://localhost:8080/"
        },
        "id": "huaWDbubIdQE",
        "outputId": "26aecaab-f2d0-478f-d21a-b06ee628a355"
      },
      "execution_count": 99,
      "outputs": [
        {
          "output_type": "execute_result",
          "data": {
            "text/plain": [
              "array([[1, 0, 0, 1, 1, 1, 0, 1, 0, 0, 0, 1, 1, 0, 1, 0, 0, 0, 1, 0],\n",
              "       [1, 0, 0, 0, 1, 1, 0, 1, 0, 0, 0, 1, 1, 1, 1, 0, 0, 0, 1, 0],\n",
              "       [1, 0, 0, 1, 1, 0, 0, 0, 0, 1, 0, 0, 1, 0, 1, 0, 1, 0, 0, 0],\n",
              "       [0, 0, 1, 1, 0, 0, 1, 1, 0, 0, 0, 0, 1, 1, 0, 0, 0, 0, 1, 0],\n",
              "       [0, 1, 0, 1, 1, 0, 0, 1, 1, 1, 0, 1, 0, 1, 0, 1, 0, 0, 0, 0],\n",
              "       [0, 1, 1, 1, 1, 1, 1, 0, 0, 1, 0, 0, 1, 1, 0, 0, 0, 0, 0, 0],\n",
              "       [0, 1, 0, 0, 0, 0, 1, 1, 0, 1, 1, 0, 0, 0, 0, 1, 1, 0, 0, 0],\n",
              "       [0, 1, 1, 0, 0, 0, 1, 0, 0, 1, 1, 0, 0, 1, 0, 0, 0, 1, 0, 0],\n",
              "       [0, 1, 1, 1, 0, 0, 1, 0, 1, 1, 1, 0, 0, 1, 0, 1, 1, 1, 0, 0]])"
            ]
          },
          "metadata": {},
          "execution_count": 99
        }
      ]
    },
    {
      "cell_type": "code",
      "execution_count": 100,
      "metadata": {
        "id": "imou0VSA-3Rj",
        "colab": {
          "base_uri": "https://localhost:8080/"
        },
        "outputId": "dba351b1-5b0c-4616-b6eb-43f68ec67663"
      },
      "outputs": [
        {
          "output_type": "execute_result",
          "data": {
            "text/plain": [
              "[-66.92219999999995,\n",
              " -57.582199999999986,\n",
              " -50.86220000000001,\n",
              " -27.86219999999995,\n",
              " -14.002199999999966,\n",
              " -9.942199999999993,\n",
              " -6.742199999999972,\n",
              " -3.082200000000036,\n",
              " 29.777799999999978]"
            ]
          },
          "metadata": {},
          "execution_count": 100
        }
      ],
      "source": [
        "pnl"
      ]
    },
    {
      "cell_type": "code",
      "execution_count": 89,
      "metadata": {
        "id": "YFau8tJw-3Rj"
      },
      "outputs": [],
      "source": [
        "# a 9x20 numpy array\n",
        "pset = pset\n",
        "\n",
        "# 9 elements numpy array or list\n",
        "pnl  = pnl"
      ]
    },
    {
      "cell_type": "markdown",
      "metadata": {
        "id": "ktO9o-vo-3Rj"
      },
      "source": [
        "**submit your answer**"
      ]
    },
    {
      "cell_type": "code",
      "execution_count": 101,
      "metadata": {
        "scrolled": true,
        "id": "D3Pm_BSL-3Rk",
        "colab": {
          "base_uri": "https://localhost:8080/",
          "height": 109
        },
        "outputId": "7366fe35-7b2f-4b3e-d14c-f4cfd2b43953"
      },
      "outputs": [
        {
          "output_type": "display_data",
          "data": {
            "text/plain": [
              "<IPython.core.display.HTML object>"
            ],
            "text/html": [
              "\n",
              "                    <b>task_03 submitted.</b> <b><font color=\"blue\">your grade is 5</font></b> \n",
              "                    <p/><pre>----- grader message -------</pre><b>correct</b><pre>----------------------------</pre>\n",
              "                    <p/><p/>\n",
              "                    <div style=\"font-size:10px\"><b>SUBMISSION CODE</b> 717nSmd203LlpVsMNxafuSjkbD2qzL0rMxxjydHIhO5GLCbGXllEdsqcLts67XbVH/IRnpwBvBrllwEOunszJB8PH6tdLXyAHhg0dlBkhDLySvea16tn3lQ06bIMwL56degbbHm7PSXowYPra4f4W8VaC+83iEuOF8AxIQpfWiQ=</div>\n",
              "                    "
            ]
          },
          "metadata": {}
        }
      ],
      "source": [
        "student.submit_task(globals(), task_id=\"task_03\");"
      ]
    },
    {
      "cell_type": "code",
      "execution_count": null,
      "metadata": {
        "id": "qMP8S1I6-3Rk"
      },
      "outputs": [],
      "source": []
    },
    {
      "cell_type": "markdown",
      "metadata": {
        "id": "V2RJLAXp-3Rk"
      },
      "source": [
        "### understand accuracy vs. PNL\n",
        "\n",
        "- what is the minimum accuracy from which a model might be profitable?\n",
        "- and if the commision changes?"
      ]
    },
    {
      "cell_type": "code",
      "source": [
        "np.linspace(.1,.9,9)"
      ],
      "metadata": {
        "colab": {
          "base_uri": "https://localhost:8080/"
        },
        "id": "OtwxP5JvKAS5",
        "outputId": "3f46ed2e-d6a4-4d79-c72c-67383e91c619"
      },
      "execution_count": 106,
      "outputs": [
        {
          "output_type": "execute_result",
          "data": {
            "text/plain": [
              "array([0.1, 0.2, 0.3, 0.4, 0.5, 0.6, 0.7, 0.8, 0.9])"
            ]
          },
          "metadata": {},
          "execution_count": 106
        }
      ]
    },
    {
      "cell_type": "code",
      "execution_count": 107,
      "metadata": {
        "id": "3pzQpqxe-3Rk",
        "outputId": "27c17ccd-6b01-4e5d-93f0-0ad1d47335ef",
        "colab": {
          "base_uri": "https://localhost:8080/",
          "height": 489
        }
      },
      "outputs": [
        {
          "output_type": "execute_result",
          "data": {
            "text/plain": [
              "Text(0, 0.5, 'PNL')"
            ]
          },
          "metadata": {},
          "execution_count": 107
        },
        {
          "output_type": "display_data",
          "data": {
            "text/plain": [
              "<Figure size 640x480 with 1 Axes>"
            ],
            "image/png": "[encoded data removed]"
          },
          "metadata": {}
        }
      ],
      "source": [
        "\n",
        "accuracies = np.linspace(.1,.9,9)\n",
        "plt.plot(accuracies, pnl)\n",
        "plt.axhline(0, color=\"black\", lw=2)\n",
        "plt.title(\"ML metric vs. Busines metric\")\n",
        "plt.grid(); plt.xlabel(\"model accuracy\"); plt.ylabel(\"PNL\")\n"
      ]
    },
    {
      "cell_type": "code",
      "execution_count": null,
      "metadata": {
        "id": "MpijtqqI-3Rl"
      },
      "outputs": [],
      "source": []
    }
  ],
  "metadata": {
    "kernelspec": {
      "display_name": "Python 3",
      "language": "python",
      "name": "python3"
    },
    "language_info": {
      "codemirror_mode": {
        "name": "ipython",
        "version": 3
      },
      "file_extension": ".py",
      "mimetype": "text/x-python",
      "name": "python",
      "nbconvert_exporter": "python",
      "pygments_lexer": "ipython3",
      "version": "3.7.3"
    },
    "colab": {
      "provenance": []
    },
    "widgets": {
      "application/vnd.jupyter.widget-state+json": {
        "7b4f7730aa0a4f0a849bd5d3f9b431c1": {
          "model_module": "@jupyter-widgets/controls",
          "model_name": "HBoxModel",
          "model_module_version": "1.5.0",
          "state": {
            "_dom_classes": [],
            "_model_module": "@jupyter-widgets/controls",
            "_model_module_version": "1.5.0",
            "_model_name": "HBoxModel",
            "_view_count": null,
            "_view_module": "@jupyter-widgets/controls",
            "_view_module_version": "1.5.0",
            "_view_name": "HBoxView",
            "box_style": "",
            "children": [
              "IPY_MODEL_97f18cd66afb4e33a99d6431e5cfc0fc",
              "IPY_MODEL_9944afb29729485880cd5a30a92afcf4",
              "IPY_MODEL_da32608f6bb34edea72893b918f49d89",
              "IPY_MODEL_7ff625352e12427e844d2b116e59bf08"
            ],
            "layout": "IPY_MODEL_4ace5117b43244e4be5ee874add18e01"
          }
        },
        "97f18cd66afb4e33a99d6431e5cfc0fc": {
          "model_module": "@jupyter-widgets/controls",
          "model_name": "VBoxModel",
          "model_module_version": "1.5.0",
          "state": {
            "_dom_classes": [],
            "_model_module": "@jupyter-widgets/controls",
            "_model_module_version": "1.5.0",
            "_model_name": "VBoxModel",
            "_view_count": null,
            "_view_module": "@jupyter-widgets/controls",
            "_view_module_version": "1.5.0",
            "_view_name": "VBoxView",
            "box_style": "",
            "children": [
              "IPY_MODEL_4198d151ca804166b34ac8dea5b46182",
              "IPY_MODEL_b0299d77de64440caa5aefea1de7c44e"
            ],
            "layout": "IPY_MODEL_1bf93af5d44b4f149515b50335e2096a"
          }
        },
        "9944afb29729485880cd5a30a92afcf4": {
          "model_module": "@jupyter-widgets/controls",
          "model_name": "ButtonModel",
          "model_module_version": "1.5.0",
          "state": {
            "_dom_classes": [
              "login_button"
            ],
            "_model_module": "@jupyter-widgets/controls",
            "_model_module_version": "1.5.0",
            "_model_name": "ButtonModel",
            "_view_count": null,
            "_view_module": "@jupyter-widgets/controls",
            "_view_module_version": "1.5.0",
            "_view_name": "ButtonView",
            "button_style": "",
            "description": "Login with email",
            "disabled": false,
            "icon": "",
            "layout": "IPY_MODEL_1bba6d1c35f94a428cb78d57e8ebefb5",
            "style": "IPY_MODEL_e155edd4b97649a58f8b4d2921f3c9d5",
            "tooltip": ""
          }
        },
        "da32608f6bb34edea72893b918f49d89": {
          "model_module": "@jupyter-widgets/controls",
          "model_name": "HTMLModel",
          "model_module_version": "1.5.0",
          "state": {
            "_dom_classes": [],
            "_model_module": "@jupyter-widgets/controls",
            "_model_module_version": "1.5.0",
            "_model_name": "HTMLModel",
            "_view_count": null,
            "_view_module": "@jupyter-widgets/controls",
            "_view_module_version": "1.5.0",
            "_view_name": "HTMLView",
            "description": "",
            "description_tooltip": null,
            "layout": "IPY_MODEL_a9fa313fbb324f1ba3bf4f938627a9cc",
            "placeholder": "​",
            "style": "IPY_MODEL_e12c6672d416418e9358eee3d135f575",
            "value": "<center><big>or</big></center>"
          }
        },
        "7ff625352e12427e844d2b116e59bf08": {
          "model_module": "@jupyter-widgets/controls",
          "model_name": "ButtonModel",
          "model_module_version": "1.5.0",
          "state": {
            "_dom_classes": [
              "google_button"
            ],
            "_model_module": "@jupyter-widgets/controls",
            "_model_module_version": "1.5.0",
            "_model_name": "ButtonModel",
            "_view_count": null,
            "_view_module": "@jupyter-widgets/controls",
            "_view_module_version": "1.5.0",
            "_view_name": "ButtonView",
            "button_style": "",
            "description": "Login with Google",
            "disabled": false,
            "icon": "",
            "layout": "IPY_MODEL_3cafa1b83dc24c7a92be225e74035285",
            "style": "IPY_MODEL_2491cbac57094ed98695fcfe2d267f56",
            "tooltip": ""
          }
        },
        "4ace5117b43244e4be5ee874add18e01": {
          "model_module": "@jupyter-widgets/base",
          "model_name": "LayoutModel",
          "model_module_version": "1.2.0",
          "state": {
            "_model_module": "@jupyter-widgets/base",
            "_model_module_version": "1.2.0",
            "_model_name": "LayoutModel",
            "_view_count": null,
            "_view_module": "@jupyter-widgets/base",
            "_view_module_version": "1.2.0",
            "_view_name": "LayoutView",
            "align_content": null,
            "align_items": null,
            "align_self": null,
            "border": null,
            "bottom": null,
            "display": null,
            "flex": null,
            "flex_flow": null,
            "grid_area": null,
            "grid_auto_columns": null,
            "grid_auto_flow": null,
            "grid_auto_rows": null,
            "grid_column": null,
            "grid_gap": null,
            "grid_row": null,
            "grid_template_areas": null,
            "grid_template_columns": null,
            "grid_template_rows": null,
            "height": null,
            "justify_content": null,
            "justify_items": null,
            "left": null,
            "margin": null,
            "max_height": null,
            "max_width": null,
            "min_height": null,
            "min_width": null,
            "object_fit": null,
            "object_position": null,
            "order": null,
            "overflow": null,
            "overflow_x": null,
            "overflow_y": null,
            "padding": null,
            "right": null,
            "top": null,
            "visibility": null,
            "width": null
          }
        },
        "4198d151ca804166b34ac8dea5b46182": {
          "model_module": "@jupyter-widgets/controls",
          "model_name": "TextModel",
          "model_module_version": "1.5.0",
          "state": {
            "_dom_classes": [],
            "_model_module": "@jupyter-widgets/controls",
            "_model_module_version": "1.5.0",
            "_model_name": "TextModel",
            "_view_count": null,
            "_view_module": "@jupyter-widgets/controls",
            "_view_module_version": "1.5.0",
            "_view_name": "TextView",
            "continuous_update": true,
            "description": "email",
            "description_tooltip": null,
            "disabled": false,
            "layout": "IPY_MODEL_bb4e388d73e4418096c06667771e8090",
            "placeholder": "​",
            "style": "IPY_MODEL_f42584f681524937a0fc7ddb6dda336a",
            "value": ""
          }
        },
        "b0299d77de64440caa5aefea1de7c44e": {
          "model_module": "@jupyter-widgets/controls",
          "model_name": "PasswordModel",
          "model_module_version": "1.5.0",
          "state": {
            "_dom_classes": [],
            "_model_module": "@jupyter-widgets/controls",
            "_model_module_version": "1.5.0",
            "_model_name": "PasswordModel",
            "_view_count": null,
            "_view_module": "@jupyter-widgets/controls",
            "_view_module_version": "1.5.0",
            "_view_name": "PasswordView",
            "continuous_update": true,
            "description": "password",
            "description_tooltip": null,
            "disabled": false,
            "layout": "IPY_MODEL_56d36d3867184b59bb6ff6548b332c2c",
            "placeholder": "​",
            "style": "IPY_MODEL_b3e00e9d4999426887b4a83a6222dbb9",
            "value": ""
          }
        },
        "1bf93af5d44b4f149515b50335e2096a": {
          "model_module": "@jupyter-widgets/base",
          "model_name": "LayoutModel",
          "model_module_version": "1.2.0",
          "state": {
            "_model_module": "@jupyter-widgets/base",
            "_model_module_version": "1.2.0",
            "_model_name": "LayoutModel",
            "_view_count": null,
            "_view_module": "@jupyter-widgets/base",
            "_view_module_version": "1.2.0",
            "_view_name": "LayoutView",
            "align_content": null,
            "align_items": null,
            "align_self": null,
            "border": null,
            "bottom": null,
            "display": null,
            "flex": null,
            "flex_flow": null,
            "grid_area": null,
            "grid_auto_columns": null,
            "grid_auto_flow": null,
            "grid_auto_rows": null,
            "grid_column": null,
            "grid_gap": null,
            "grid_row": null,
            "grid_template_areas": null,
            "grid_template_columns": null,
            "grid_template_rows": null,
            "height": null,
            "justify_content": null,
            "justify_items": null,
            "left": null,
            "margin": null,
            "max_height": null,
            "max_width": null,
            "min_height": null,
            "min_width": null,
            "object_fit": null,
            "object_position": null,
            "order": null,
            "overflow": null,
            "overflow_x": null,
            "overflow_y": null,
            "padding": null,
            "right": null,
            "top": null,
            "visibility": null,
            "width": null
          }
        },
        "1bba6d1c35f94a428cb78d57e8ebefb5": {
          "model_module": "@jupyter-widgets/base",
          "model_name": "LayoutModel",
          "model_module_version": "1.2.0",
          "state": {
            "_model_module": "@jupyter-widgets/base",
            "_model_module_version": "1.2.0",
            "_model_name": "LayoutModel",
            "_view_count": null,
            "_view_module": "@jupyter-widgets/base",
            "_view_module_version": "1.2.0",
            "_view_name": "LayoutView",
            "align_content": null,
            "align_items": null,
            "align_self": null,
            "border": null,
            "bottom": null,
            "display": null,
            "flex": null,
            "flex_flow": null,
            "grid_area": null,
            "grid_auto_columns": null,
            "grid_auto_flow": null,
            "grid_auto_rows": null,
            "grid_column": null,
            "grid_gap": null,
            "grid_row": null,
            "grid_template_areas": null,
            "grid_template_columns": null,
            "grid_template_rows": null,
            "height": "53px",
            "justify_content": null,
            "justify_items": null,
            "left": null,
            "margin": null,
            "max_height": null,
            "max_width": null,
            "min_height": null,
            "min_width": null,
            "object_fit": null,
            "object_position": null,
            "order": null,
            "overflow": null,
            "overflow_x": null,
            "overflow_y": null,
            "padding": null,
            "right": null,
            "top": null,
            "visibility": null,
            "width": "150px"
          }
        },
        "e155edd4b97649a58f8b4d2921f3c9d5": {
          "model_module": "@jupyter-widgets/controls",
          "model_name": "ButtonStyleModel",
          "model_module_version": "1.5.0",
          "state": {
            "_model_module": "@jupyter-widgets/controls",
            "_model_module_version": "1.5.0",
            "_model_name": "ButtonStyleModel",
            "_view_count": null,
            "_view_module": "@jupyter-widgets/base",
            "_view_module_version": "1.2.0",
            "_view_name": "StyleView",
            "button_color": null,
            "font_weight": ""
          }
        },
        "a9fa313fbb324f1ba3bf4f938627a9cc": {
          "model_module": "@jupyter-widgets/base",
          "model_name": "LayoutModel",
          "model_module_version": "1.2.0",
          "state": {
            "_model_module": "@jupyter-widgets/base",
            "_model_module_version": "1.2.0",
            "_model_name": "LayoutModel",
            "_view_count": null,
            "_view_module": "@jupyter-widgets/base",
            "_view_module_version": "1.2.0",
            "_view_name": "LayoutView",
            "align_content": null,
            "align_items": null,
            "align_self": null,
            "border": null,
            "bottom": null,
            "display": null,
            "flex": null,
            "flex_flow": null,
            "grid_area": null,
            "grid_auto_columns": null,
            "grid_auto_flow": null,
            "grid_auto_rows": null,
            "grid_column": null,
            "grid_gap": null,
            "grid_row": null,
            "grid_template_areas": null,
            "grid_template_columns": null,
            "grid_template_rows": null,
            "height": null,
            "justify_content": null,
            "justify_items": null,
            "left": null,
            "margin": null,
            "max_height": null,
            "max_width": null,
            "min_height": null,
            "min_width": null,
            "object_fit": null,
            "object_position": null,
            "order": null,
            "overflow": null,
            "overflow_x": null,
            "overflow_y": null,
            "padding": null,
            "right": null,
            "top": null,
            "visibility": null,
            "width": "100px"
          }
        },
        "e12c6672d416418e9358eee3d135f575": {
          "model_module": "@jupyter-widgets/controls",
          "model_name": "DescriptionStyleModel",
          "model_module_version": "1.5.0",
          "state": {
            "_model_module": "@jupyter-widgets/controls",
            "_model_module_version": "1.5.0",
            "_model_name": "DescriptionStyleModel",
            "_view_count": null,
            "_view_module": "@jupyter-widgets/base",
            "_view_module_version": "1.2.0",
            "_view_name": "StyleView",
            "description_width": ""
          }
        },
        "3cafa1b83dc24c7a92be225e74035285": {
          "model_module": "@jupyter-widgets/base",
          "model_name": "LayoutModel",
          "model_module_version": "1.2.0",
          "state": {
            "_model_module": "@jupyter-widgets/base",
            "_model_module_version": "1.2.0",
            "_model_name": "LayoutModel",
            "_view_count": null,
            "_view_module": "@jupyter-widgets/base",
            "_view_module_version": "1.2.0",
            "_view_name": "LayoutView",
            "align_content": null,
            "align_items": null,
            "align_self": null,
            "border": null,
            "bottom": null,
            "display": null,
            "flex": null,
            "flex_flow": null,
            "grid_area": null,
            "grid_auto_columns": null,
            "grid_auto_flow": null,
            "grid_auto_rows": null,
            "grid_column": null,
            "grid_gap": null,
            "grid_row": null,
            "grid_template_areas": null,
            "grid_template_columns": null,
            "grid_template_rows": null,
            "height": "53px",
            "justify_content": null,
            "justify_items": null,
            "left": null,
            "margin": null,
            "max_height": null,
            "max_width": null,
            "min_height": null,
            "min_width": null,
            "object_fit": null,
            "object_position": null,
            "order": null,
            "overflow": null,
            "overflow_x": null,
            "overflow_y": null,
            "padding": null,
            "right": null,
            "top": null,
            "visibility": null,
            "width": "200px"
          }
        },
        "2491cbac57094ed98695fcfe2d267f56": {
          "model_module": "@jupyter-widgets/controls",
          "model_name": "ButtonStyleModel",
          "model_module_version": "1.5.0",
          "state": {
            "_model_module": "@jupyter-widgets/controls",
            "_model_module_version": "1.5.0",
            "_model_name": "ButtonStyleModel",
            "_view_count": null,
            "_view_module": "@jupyter-widgets/base",
            "_view_module_version": "1.2.0",
            "_view_name": "StyleView",
            "button_color": null,
            "font_weight": ""
          }
        },
        "bb4e388d73e4418096c06667771e8090": {
          "model_module": "@jupyter-widgets/base",
          "model_name": "LayoutModel",
          "model_module_version": "1.2.0",
          "state": {
            "_model_module": "@jupyter-widgets/base",
            "_model_module_version": "1.2.0",
            "_model_name": "LayoutModel",
            "_view_count": null,
            "_view_module": "@jupyter-widgets/base",
            "_view_module_version": "1.2.0",
            "_view_name": "LayoutView",
            "align_content": null,
            "align_items": null,
            "align_self": null,
            "border": null,
            "bottom": null,
            "display": null,
            "flex": null,
            "flex_flow": null,
            "grid_area": null,
            "grid_auto_columns": null,
            "grid_auto_flow": null,
            "grid_auto_rows": null,
            "grid_column": null,
            "grid_gap": null,
            "grid_row": null,
            "grid_template_areas": null,
            "grid_template_columns": null,
            "grid_template_rows": null,
            "height": "25px",
            "justify_content": null,
            "justify_items": null,
            "left": null,
            "margin": null,
            "max_height": null,
            "max_width": null,
            "min_height": null,
            "min_width": null,
            "object_fit": null,
            "object_position": null,
            "order": null,
            "overflow": null,
            "overflow_x": null,
            "overflow_y": null,
            "padding": null,
            "right": null,
            "top": null,
            "visibility": null,
            "width": "300px"
          }
        },
        "f42584f681524937a0fc7ddb6dda336a": {
          "model_module": "@jupyter-widgets/controls",
          "model_name": "DescriptionStyleModel",
          "model_module_version": "1.5.0",
          "state": {
            "_model_module": "@jupyter-widgets/controls",
            "_model_module_version": "1.5.0",
            "_model_name": "DescriptionStyleModel",
            "_view_count": null,
            "_view_module": "@jupyter-widgets/base",
            "_view_module_version": "1.2.0",
            "_view_name": "StyleView",
            "description_width": ""
          }
        },
        "56d36d3867184b59bb6ff6548b332c2c": {
          "model_module": "@jupyter-widgets/base",
          "model_name": "LayoutModel",
          "model_module_version": "1.2.0",
          "state": {
            "_model_module": "@jupyter-widgets/base",
            "_model_module_version": "1.2.0",
            "_model_name": "LayoutModel",
            "_view_count": null,
            "_view_module": "@jupyter-widgets/base",
            "_view_module_version": "1.2.0",
            "_view_name": "LayoutView",
            "align_content": null,
            "align_items": null,
            "align_self": null,
            "border": null,
            "bottom": null,
            "display": null,
            "flex": null,
            "flex_flow": null,
            "grid_area": null,
            "grid_auto_columns": null,
            "grid_auto_flow": null,
            "grid_auto_rows": null,
            "grid_column": null,
            "grid_gap": null,
            "grid_row": null,
            "grid_template_areas": null,
            "grid_template_columns": null,
            "grid_template_rows": null,
            "height": "24px",
            "justify_content": null,
            "justify_items": null,
            "left": null,
            "margin": null,
            "max_height": null,
            "max_width": null,
            "min_height": null,
            "min_width": null,
            "object_fit": null,
            "object_position": null,
            "order": null,
            "overflow": null,
            "overflow_x": null,
            "overflow_y": null,
            "padding": null,
            "right": null,
            "top": null,
            "visibility": null,
            "width": "300px"
          }
        },
        "b3e00e9d4999426887b4a83a6222dbb9": {
          "model_module": "@jupyter-widgets/controls",
          "model_name": "DescriptionStyleModel",
          "model_module_version": "1.5.0",
          "state": {
            "_model_module": "@jupyter-widgets/controls",
            "_model_module_version": "1.5.0",
            "_model_name": "DescriptionStyleModel",
            "_view_count": null,
            "_view_module": "@jupyter-widgets/base",
            "_view_module_version": "1.2.0",
            "_view_name": "StyleView",
            "description_width": ""
          }
        }
      }
    }
  },
  "nbformat": 4,
  "nbformat_minor": 0
}