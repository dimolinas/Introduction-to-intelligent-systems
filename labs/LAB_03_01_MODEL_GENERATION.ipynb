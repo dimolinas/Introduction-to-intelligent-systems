{
 "cells": [
  {
   "cell_type": "markdown",
   "metadata": {
    "id": "o7r7n9PS6ua0"
   },
   "source": [
    "# LAB 03.01 - Model Generation"
   ]
  },
  {
   "cell_type": "code",
   "execution_count": 1,
   "metadata": {
    "id": "XwCh2jqI6ua4",
    "outputId": "a25b9a21-e47b-4cc4-fd49-522c27bb1202",
    "colab": {
     "base_uri": "https://localhost:8080/",
     "height": 52
    }
   },
   "outputs": [
    {
     "output_type": "display_data",
     "data": {
      "text/plain": [
       "<IPython.core.display.HTML object>"
      ],
      "text/html": [
       "\n",
       "<meta name=\"google-signin-client_id\"\n",
       "      content=\"461673936472-kdjosv61up3ac1ajeuq6qqu72upilmls.apps.googleusercontent.com\"/>\n",
       "<script src=\"https://apis.google.com/js/client:platform.js?onload=google_button_start\"></script>\n",
       "    "
      ]
     },
     "metadata": {}
    },
    {
     "output_type": "stream",
     "name": "stdout",
     "text": [
      "replicating local resources\n"
     ]
    },
    {
     "output_type": "execute_result",
     "data": {
      "text/plain": [
       "'https://m5knaekxo6.execute-api.us-west-2.amazonaws.com/dev-v0001/rlxmooc'"
      ],
      "application/vnd.google.colaboratory.intrinsic+json": {
       "type": "string"
      }
     },
     "metadata": {},
     "execution_count": 1
    }
   ],
   "source": [
    "!wget --no-cache -O init.py -q https://raw.githubusercontent.com/fagonzalezo/ai4eng-unal/main/content/init.py\n",
    "import init; init.init(force_download=False); init.get_weblink()\n",
    "init.endpoint"
   ]
  },
  {
   "cell_type": "code",
   "execution_count": 59,
   "metadata": {
    "id": "lGwNZ4me6ua6",
    "outputId": "9cee9a3d-d6cd-4cd6-e15b-ce397708e111",
    "colab": {
     "base_uri": "https://localhost:8080/",
     "height": 74,
     "referenced_widgets": [
      "a9019c7e6b10412ba304ab3c6b837d90",
      "4d9155ff331d4a73812e0b86bf18608c",
      "0835a1c15a9d47299f5f403b24357d23",
      "00e37145d47b421b81fabe5fe55d4a17",
      "3cce66aa441744c2a72247bee36351b9",
      "217f6c9de0314a5eb2a1767239712dd2",
      "d854f7f8e2ba47c7b352da57426a0ee4",
      "1a66e89fcbf4488283459c10f443ad22",
      "f3140cb3005e47c4a8088c674f71ead4",
      "5e49351d139b4d98a19aa4322caec124",
      "a88ef7998e93483c88d81875b647a2e0",
      "c8becbf90fde4043967b85ffd4af574d",
      "51db149c78374dc6a55b30a298ac2833",
      "2c40139909d04e3eafde361292c80401",
      "a5817afff73b45ec924d35ecbc4d9e37",
      "58d7ca185ac84101bfe652b53bb03fbf",
      "87f33592d63c44de968bbaf41ce49ebe",
      "d6363069995e4956b5388cef6fa4d35d",
      "9b81db215a3c40408bd7b1299985d955"
     ]
    }
   },
   "outputs": [
    {
     "output_type": "stream",
     "name": "stdout",
     "text": [
      "logging in as dimolinas@unal.edu.co ... please wait\n",
      "using course session ai4eng.v1.unal::intro_si_2024_2\n",
      "success!! you are logged in\n"
     ]
    }
   ],
   "source": [
    "from local.lib.rlxmoocapi import submit, session\n",
    "session.LoginSequence(endpoint=init.endpoint, course_id=init.course_id, lab_id=\"L03.01\", varname=\"student\");"
   ]
  },
  {
   "cell_type": "code",
   "execution_count": 3,
   "metadata": {
    "id": "m8DRzuJq6ua7"
   },
   "outputs": [],
   "source": [
    "import numpy as np\n",
    "import pandas as pd\n",
    "import matplotlib.pyplot as plt\n",
    "from sklearn.datasets import make_moons\n",
    "from local.lib import mlutils\n",
    "from IPython.display import Image\n",
    "%matplotlib inline"
   ]
  },
  {
   "cell_type": "markdown",
   "metadata": {
    "id": "PBcL_4p46ua7"
   },
   "source": [
    "## A machine learning task\n",
    "\n",
    "We have two species of bugs (**X bugs** and **Z bugs**), for each bug we have measured its **width** and **length**. Once we have a bug, determining if is of  **species X** or **species Z** is very costly (lab analysis, etc.)\n",
    "\n",
    "**Machine learning goal**: We want to create a model so that, when given the width and length of a bug, will tell us whether it belongs to  **species X** or **species Z**. If the model performs well, we might use it insted of the lab analysis.\n",
    "\n",
    "**To train a machine learning model** we built a **training dataset** where we have **annotated** 20 bugs with their **confirmed** species. The training dataset has:\n",
    "\n",
    "- 20 data items\n",
    "- two data columns (**width** and **length**)\n",
    "- one label column, with two unique values: **0 for species X**, and **1 for species Z**.\n"
   ]
  },
  {
   "cell_type": "code",
   "execution_count": 4,
   "metadata": {
    "id": "4gj012Fh6ua7",
    "outputId": "9c2f127f-fb93-47c0-bbde-20d3d8dc4434",
    "colab": {
     "base_uri": "https://localhost:8080/",
     "height": 323
    }
   },
   "outputs": [
    {
     "output_type": "stream",
     "name": "stdout",
     "text": [
      "(20, 3) (20, 2) (20,)\n",
      "[[0.5  0.65]\n",
      " [0.75 0.34]\n",
      " [0.37 0.5 ]\n",
      " [0.57 0.74]\n",
      " [1.   0.69]]\n",
      "[0. 1. 1. 0. 1.]\n"
     ]
    },
    {
     "output_type": "execute_result",
     "data": {
      "text/plain": [
       "   width  height    y\n",
       "0   0.50    0.65  0.0\n",
       "1   0.75    0.34  1.0\n",
       "2   0.37    0.50  1.0\n",
       "3   0.57    0.74  0.0\n",
       "4   1.00    0.69  1.0"
      ],
      "text/html": [
       "\n",
       "  <div id=\"df-4df8e836-0810-4b93-a3b9-67dd0317aaad\" class=\"colab-df-container\">\n",
       "    <div>\n",
       "<style scoped>\n",
       "    .dataframe tbody tr th:only-of-type {\n",
       "        vertical-align: middle;\n",
       "    }\n",
       "\n",
       "    .dataframe tbody tr th {\n",
       "        vertical-align: top;\n",
       "    }\n",
       "\n",
       "    .dataframe thead th {\n",
       "        text-align: right;\n",
       "    }\n",
       "</style>\n",
       "<table border=\"1\" class=\"dataframe\">\n",
       "  <thead>\n",
       "    <tr style=\"text-align: right;\">\n",
       "      <th></th>\n",
       "      <th>width</th>\n",
       "      <th>height</th>\n",
       "      <th>y</th>\n",
       "    </tr>\n",
       "  </thead>\n",
       "  <tbody>\n",
       "    <tr>\n",
       "      <th>0</th>\n",
       "      <td>0.50</td>\n",
       "      <td>0.65</td>\n",
       "      <td>0.0</td>\n",
       "    </tr>\n",
       "    <tr>\n",
       "      <th>1</th>\n",
       "      <td>0.75</td>\n",
       "      <td>0.34</td>\n",
       "      <td>1.0</td>\n",
       "    </tr>\n",
       "    <tr>\n",
       "      <th>2</th>\n",
       "      <td>0.37</td>\n",
       "      <td>0.50</td>\n",
       "      <td>1.0</td>\n",
       "    </tr>\n",
       "    <tr>\n",
       "      <th>3</th>\n",
       "      <td>0.57</td>\n",
       "      <td>0.74</td>\n",
       "      <td>0.0</td>\n",
       "    </tr>\n",
       "    <tr>\n",
       "      <th>4</th>\n",
       "      <td>1.00</td>\n",
       "      <td>0.69</td>\n",
       "      <td>1.0</td>\n",
       "    </tr>\n",
       "  </tbody>\n",
       "</table>\n",
       "</div>\n",
       "    <div class=\"colab-df-buttons\">\n",
       "\n",
       "  <div class=\"colab-df-container\">\n",
       "    <button class=\"colab-df-convert\" onclick=\"convertToInteractive('df-4df8e836-0810-4b93-a3b9-67dd0317aaad')\"\n",
       "            title=\"Convert this dataframe to an interactive table.\"\n",
       "            style=\"display:none;\">\n",
       "\n",
       "  <svg xmlns=\"http://www.w3.org/2000/svg\" height=\"24px\" viewBox=\"0 -960 960 960\">\n",
       "    <path d=\"M120-120v-720h720v720H120Zm60-500h600v-160H180v160Zm220 220h160v-160H400v160Zm0 220h160v-160H400v160ZM180-400h160v-160H180v160Zm440 0h160v-160H620v160ZM180-180h160v-160H180v160Zm440 0h160v-160H620v160Z\"/>\n",
       "  </svg>\n",
       "    </button>\n",
       "\n",
       "  <style>\n",
       "    .colab-df-container {\n",
       "      display:flex;\n",
       "      gap: 12px;\n",
       "    }\n",
       "\n",
       "    .colab-df-convert {\n",
       "      background-color: #E8F0FE;\n",
       "      border: none;\n",
       "      border-radius: 50%;\n",
       "      cursor: pointer;\n",
       "      display: none;\n",
       "      fill: #1967D2;\n",
       "      height: 32px;\n",
       "      padding: 0 0 0 0;\n",
       "      width: 32px;\n",
       "    }\n",
       "\n",
       "    .colab-df-convert:hover {\n",
       "      background-color: #E2EBFA;\n",
       "      box-shadow: 0px 1px 2px rgba(60, 64, 67, 0.3), 0px 1px 3px 1px rgba(60, 64, 67, 0.15);\n",
       "      fill: #174EA6;\n",
       "    }\n",
       "\n",
       "    .colab-df-buttons div {\n",
       "      margin-bottom: 4px;\n",
       "    }\n",
       "\n",
       "    [theme=dark] .colab-df-convert {\n",
       "      background-color: #3B4455;\n",
       "      fill: #D2E3FC;\n",
       "    }\n",
       "\n",
       "    [theme=dark] .colab-df-convert:hover {\n",
       "      background-color: #434B5C;\n",
       "      box-shadow: 0px 1px 3px 1px rgba(0, 0, 0, 0.15);\n",
       "      filter: drop-shadow(0px 1px 2px rgba(0, 0, 0, 0.3));\n",
       "      fill: #FFFFFF;\n",
       "    }\n",
       "  </style>\n",
       "\n",
       "    <script>\n",
       "      const buttonEl =\n",
       "        document.querySelector('#df-4df8e836-0810-4b93-a3b9-67dd0317aaad button.colab-df-convert');\n",
       "      buttonEl.style.display =\n",
       "        google.colab.kernel.accessAllowed ? 'block' : 'none';\n",
       "\n",
       "      async function convertToInteractive(key) {\n",
       "        const element = document.querySelector('#df-4df8e836-0810-4b93-a3b9-67dd0317aaad');\n",
       "        const dataTable =\n",
       "          await google.colab.kernel.invokeFunction('convertToInteractive',\n",
       "                                                    [key], {});\n",
       "        if (!dataTable) return;\n",
       "\n",
       "        const docLinkHtml = 'Like what you see? Visit the ' +\n",
       "          '<a target=\"_blank\" href=https://colab.research.google.com/notebooks/data_table.ipynb>data table notebook</a>'\n",
       "          + ' to learn more about interactive tables.';\n",
       "        element.innerHTML = '';\n",
       "        dataTable['output_type'] = 'display_data';\n",
       "        await google.colab.output.renderOutput(dataTable, element);\n",
       "        const docLink = document.createElement('div');\n",
       "        docLink.innerHTML = docLinkHtml;\n",
       "        element.appendChild(docLink);\n",
       "      }\n",
       "    </script>\n",
       "  </div>\n",
       "\n",
       "\n",
       "<div id=\"df-a76df238-1776-41da-8eed-c70f7dac69bd\">\n",
       "  <button class=\"colab-df-quickchart\" onclick=\"quickchart('df-a76df238-1776-41da-8eed-c70f7dac69bd')\"\n",
       "            title=\"Suggest charts\"\n",
       "            style=\"display:none;\">\n",
       "\n",
       "<svg xmlns=\"http://www.w3.org/2000/svg\" height=\"24px\"viewBox=\"0 0 24 24\"\n",
       "     width=\"24px\">\n",
       "    <g>\n",
       "        <path d=\"M19 3H5c-1.1 0-2 .9-2 2v14c0 1.1.9 2 2 2h14c1.1 0 2-.9 2-2V5c0-1.1-.9-2-2-2zM9 17H7v-7h2v7zm4 0h-2V7h2v10zm4 0h-2v-4h2v4z\"/>\n",
       "    </g>\n",
       "</svg>\n",
       "  </button>\n",
       "\n",
       "<style>\n",
       "  .colab-df-quickchart {\n",
       "      --bg-color: #E8F0FE;\n",
       "      --fill-color: #1967D2;\n",
       "      --hover-bg-color: #E2EBFA;\n",
       "      --hover-fill-color: #174EA6;\n",
       "      --disabled-fill-color: #AAA;\n",
       "      --disabled-bg-color: #DDD;\n",
       "  }\n",
       "\n",
       "  [theme=dark] .colab-df-quickchart {\n",
       "      --bg-color: #3B4455;\n",
       "      --fill-color: #D2E3FC;\n",
       "      --hover-bg-color: #434B5C;\n",
       "      --hover-fill-color: #FFFFFF;\n",
       "      --disabled-bg-color: #3B4455;\n",
       "      --disabled-fill-color: #666;\n",
       "  }\n",
       "\n",
       "  .colab-df-quickchart {\n",
       "    background-color: var(--bg-color);\n",
       "    border: none;\n",
       "    border-radius: 50%;\n",
       "    cursor: pointer;\n",
       "    display: none;\n",
       "    fill: var(--fill-color);\n",
       "    height: 32px;\n",
       "    padding: 0;\n",
       "    width: 32px;\n",
       "  }\n",
       "\n",
       "  .colab-df-quickchart:hover {\n",
       "    background-color: var(--hover-bg-color);\n",
       "    box-shadow: 0 1px 2px rgba(60, 64, 67, 0.3), 0 1px 3px 1px rgba(60, 64, 67, 0.15);\n",
       "    fill: var(--button-hover-fill-color);\n",
       "  }\n",
       "\n",
       "  .colab-df-quickchart-complete:disabled,\n",
       "  .colab-df-quickchart-complete:disabled:hover {\n",
       "    background-color: var(--disabled-bg-color);\n",
       "    fill: var(--disabled-fill-color);\n",
       "    box-shadow: none;\n",
       "  }\n",
       "\n",
       "  .colab-df-spinner {\n",
       "    border: 2px solid var(--fill-color);\n",
       "    border-color: transparent;\n",
       "    border-bottom-color: var(--fill-color);\n",
       "    animation:\n",
       "      spin 1s steps(1) infinite;\n",
       "  }\n",
       "\n",
       "  @keyframes spin {\n",
       "    0% {\n",
       "      border-color: transparent;\n",
       "      border-bottom-color: var(--fill-color);\n",
       "      border-left-color: var(--fill-color);\n",
       "    }\n",
       "    20% {\n",
       "      border-color: transparent;\n",
       "      border-left-color: var(--fill-color);\n",
       "      border-top-color: var(--fill-color);\n",
       "    }\n",
       "    30% {\n",
       "      border-color: transparent;\n",
       "      border-left-color: var(--fill-color);\n",
       "      border-top-color: var(--fill-color);\n",
       "      border-right-color: var(--fill-color);\n",
       "    }\n",
       "    40% {\n",
       "      border-color: transparent;\n",
       "      border-right-color: var(--fill-color);\n",
       "      border-top-color: var(--fill-color);\n",
       "    }\n",
       "    60% {\n",
       "      border-color: transparent;\n",
       "      border-right-color: var(--fill-color);\n",
       "    }\n",
       "    80% {\n",
       "      border-color: transparent;\n",
       "      border-right-color: var(--fill-color);\n",
       "      border-bottom-color: var(--fill-color);\n",
       "    }\n",
       "    90% {\n",
       "      border-color: transparent;\n",
       "      border-bottom-color: var(--fill-color);\n",
       "    }\n",
       "  }\n",
       "</style>\n",
       "\n",
       "  <script>\n",
       "    async function quickchart(key) {\n",
       "      const quickchartButtonEl =\n",
       "        document.querySelector('#' + key + ' button');\n",
       "      quickchartButtonEl.disabled = true;  // To prevent multiple clicks.\n",
       "      quickchartButtonEl.classList.add('colab-df-spinner');\n",
       "      try {\n",
       "        const charts = await google.colab.kernel.invokeFunction(\n",
       "            'suggestCharts', [key], {});\n",
       "      } catch (error) {\n",
       "        console.error('Error during call to suggestCharts:', error);\n",
       "      }\n",
       "      quickchartButtonEl.classList.remove('colab-df-spinner');\n",
       "      quickchartButtonEl.classList.add('colab-df-quickchart-complete');\n",
       "    }\n",
       "    (() => {\n",
       "      let quickchartButtonEl =\n",
       "        document.querySelector('#df-a76df238-1776-41da-8eed-c70f7dac69bd button');\n",
       "      quickchartButtonEl.style.display =\n",
       "        google.colab.kernel.accessAllowed ? 'block' : 'none';\n",
       "    })();\n",
       "  </script>\n",
       "</div>\n",
       "\n",
       "    </div>\n",
       "  </div>\n"
      ],
      "application/vnd.google.colaboratory.intrinsic+json": {
       "type": "dataframe",
       "variable_name": "d",
       "summary": "{\n  \"name\": \"d\",\n  \"rows\": 20,\n  \"fields\": [\n    {\n      \"column\": \"width\",\n      \"properties\": {\n        \"dtype\": \"number\",\n        \"std\": 0.2679409793612254,\n        \"min\": 0.0,\n        \"max\": 1.0,\n        \"num_unique_values\": 18,\n        \"samples\": [\n          0.5,\n          0.75,\n          0.46\n        ],\n        \"semantic_type\": \"\",\n        \"description\": \"\"\n      }\n    },\n    {\n      \"column\": \"height\",\n      \"properties\": {\n        \"dtype\": \"number\",\n        \"std\": 0.33208234552671767,\n        \"min\": 0.0,\n        \"max\": 1.0,\n        \"num_unique_values\": 19,\n        \"samples\": [\n          0.65,\n          0.61,\n          1.0\n        ],\n        \"semantic_type\": \"\",\n        \"description\": \"\"\n      }\n    },\n    {\n      \"column\": \"y\",\n      \"properties\": {\n        \"dtype\": \"number\",\n        \"std\": 0.512989176042577,\n        \"min\": 0.0,\n        \"max\": 1.0,\n        \"num_unique_values\": 2,\n        \"samples\": [\n          1.0,\n          0.0\n        ],\n        \"semantic_type\": \"\",\n        \"description\": \"\"\n      }\n    }\n  ]\n}"
      }
     },
     "metadata": {},
     "execution_count": 4
    }
   ],
   "source": [
    "\n",
    "d = pd.read_csv(\"local/data/trilotropicos_small.csv\")\n",
    "X,y = d.values[:,:2], d.values[:,-1]\n",
    "print (d.shape, X.shape, y.shape)\n",
    "print (X[:5])\n",
    "print (y[:5])\n",
    "d.head()\n"
   ]
  },
  {
   "cell_type": "markdown",
   "metadata": {
    "id": "KLaYqYsj6ua9"
   },
   "source": [
    "Since it is just two columns, we can visualize it"
   ]
  },
  {
   "cell_type": "code",
   "execution_count": 5,
   "metadata": {
    "id": "hSYQI8816ua9",
    "outputId": "3cf9226e-7bc6-4aef-f06c-42dd69e829c8",
    "colab": {
     "base_uri": "https://localhost:8080/",
     "height": 449
    }
   },
   "outputs": [
    {
     "output_type": "display_data",
     "data": {
      "text/plain": [
       "<Figure size 640x480 with 1 Axes>"
      ],
      "image/png": "[encoded data removed]"
     },
     "metadata": {}
    }
   ],
   "source": [
    "\n",
    "plt.scatter(X[y==0][:,0], X[y==0][:,1], color=\"blue\", label=\"X bug\")\n",
    "plt.scatter(X[y==1][:,0], X[y==1][:,1], color=\"red\", label=\"Z bug\")\n",
    "plt.xlabel(\"width\");plt.ylabel(\"length\"); plt.legend(); plt.grid();\n"
   ]
  },
  {
   "cell_type": "markdown",
   "metadata": {
    "id": "gkiEvVNx6ua-"
   },
   "source": [
    "## Task 1. Manually use a predictive model\n",
    "\n",
    "We give you a procedure somewhat calibrated so that, given a new bug, it produces a prediction. The procedure depends on two parameters $\\theta_0$ and $\\theta_1$. Given the width $w^{(i)}$ and height $h^{(i)}$ of bug number $i$, the prediction $\\hat{y}^{(i)} \\in \\{0, 1\\}$ is computed as follows:\n",
    "\n",
    "$$\\hat{y}^{(i)} = 0\\text{ if }w^{(i)}<\\theta_0\\text{ AND }h^{(i)}>\\theta_1;\\;\\;\\;\\;\\;\\text{otherwise }\\hat{y}^{(i)}=1$$\n"
   ]
  },
  {
   "cell_type": "markdown",
   "metadata": {
    "id": "BEyxTKTO6ua-"
   },
   "source": [
    "This can be considered as a **model template**, depending on two parameters.\n",
    "\n",
    "\n",
    "Complete **the following function** so that whenever given a `numpy` array `X` $\\in \\mathbb{R}^m \\times \\mathbb{R}^2$ containing the width and height of $m$ bugs, returns a vector $\\in \\mathbb{R}^m$ with the predictions of the $m$ bugs as described in the expression above. The parameter `t` $\\in \\mathbb{R}^2$ contains, in this order, $\\theta_0$ and $\\theta_1$\n",
    "\n",
    "Observe that your function must return a `numpy` vector of **integers** (not booleans).\n",
    "\n",
    "**CHALLENGE**: solve it with one single line of code\n",
    "\n",
    "**HINT**: use `.astype(int)` to convert a `numpy` array of booleans to integers."
   ]
  },
  {
   "cell_type": "code",
   "execution_count": 43,
   "metadata": {
    "id": "GSsD8UoD6ua-"
   },
   "outputs": [],
   "source": [
    "def predict(X, t):\n",
    "    return np.logical_not(np.logical_and(X[: , 0] < t[0] , X[: , 1] > t[1])).astype(int)"
   ]
  },
  {
   "cell_type": "markdown",
   "metadata": {
    "id": "GMQwO8Wk6ua_"
   },
   "source": [
    "check manually your code, your predictions with the following `t` must be\n",
    "\n",
    "       [1, 1, 0, 1, 1, 0, 0, 1, 1, 0, 0, 1, 0, 1, 0, 1, 1, 1, 0, 0]\n",
    "       \n",
    "with an accuracy of 0.75"
   ]
  },
  {
   "cell_type": "code",
   "execution_count": 44,
   "metadata": {
    "id": "DEmDFyBb6ua_",
    "outputId": "c47007d1-70cb-4aa9-886f-71f268cc71b1",
    "colab": {
     "base_uri": "https://localhost:8080/"
    }
   },
   "outputs": [
    {
     "output_type": "execute_result",
     "data": {
      "text/plain": [
       "array([1, 1, 0, 1, 1, 0, 0, 1, 1, 0, 0, 1, 0, 1, 0, 1, 1, 1, 0, 0])"
      ]
     },
     "metadata": {},
     "execution_count": 44
    }
   ],
   "source": [
    "t = np.r_[.5,.3]\n",
    "y_hat = predict(X, t)\n",
    "y_hat"
   ]
  },
  {
   "cell_type": "code",
   "execution_count": 21,
   "metadata": {
    "id": "dkrNpgc66ua_",
    "outputId": "3d0ca643-ec9d-464c-8b8d-11f571d98f63",
    "colab": {
     "base_uri": "https://localhost:8080/"
    }
   },
   "outputs": [
    {
     "output_type": "execute_result",
     "data": {
      "text/plain": [
       "0.25"
      ]
     },
     "metadata": {},
     "execution_count": 21
    }
   ],
   "source": [
    "np.mean(y==y_hat)"
   ]
  },
  {
   "cell_type": "markdown",
   "metadata": {
    "id": "JNS_xrJV6ubA"
   },
   "source": [
    "observe the classification boundary that the model generates"
   ]
  },
  {
   "cell_type": "code",
   "execution_count": 22,
   "metadata": {
    "id": "YX6m59386ubA",
    "outputId": "09b25ce6-ef41-4264-98e0-3eb16e2de70a",
    "colab": {
     "base_uri": "https://localhost:8080/",
     "height": 435
    }
   },
   "outputs": [
    {
     "output_type": "display_data",
     "data": {
      "text/plain": [
       "<Figure size 640x480 with 1 Axes>"
      ],
      "image/png": "[encoded data removed]"
     },
     "metadata": {}
    }
   ],
   "source": [
    "mlutils.plot_2Ddata_with_boundary(lambda X: predict(X,t), X, y); plt.grid();"
   ]
  },
  {
   "cell_type": "markdown",
   "metadata": {
    "id": "ga0iZwm36ubA"
   },
   "source": [
    "and with other `t` ... which is better?"
   ]
  },
  {
   "cell_type": "code",
   "execution_count": 23,
   "metadata": {
    "id": "r2jfz3aW6ubB",
    "outputId": "d23775e4-bd26-49ee-e9f5-9ce6aa2ac677",
    "colab": {
     "base_uri": "https://localhost:8080/",
     "height": 452
    }
   },
   "outputs": [
    {
     "output_type": "execute_result",
     "data": {
      "text/plain": [
       "0.3"
      ]
     },
     "metadata": {},
     "execution_count": 23
    },
    {
     "output_type": "display_data",
     "data": {
      "text/plain": [
       "<Figure size 640x480 with 1 Axes>"
      ],
      "image/png": "[encoded data removed]"
     },
     "metadata": {}
    }
   ],
   "source": [
    "t = np.r_[.5,.8]\n",
    "mlutils.plot_2Ddata_with_boundary(lambda X: predict(X,t), X, y); plt.grid();\n",
    "np.mean(y==predict(X,t))"
   ]
  },
  {
   "cell_type": "markdown",
   "metadata": {
    "id": "5GDV-4vE6ubB"
   },
   "source": [
    "observe the prediction boundaries of other models. Change the `max_depth` of the decision tree to 2. Does it look familiar?"
   ]
  },
  {
   "cell_type": "code",
   "execution_count": 24,
   "metadata": {
    "id": "y_BCqGYS6ubB",
    "outputId": "cf26fff8-4352-43fe-a059-ae8e9abaa075",
    "colab": {
     "base_uri": "https://localhost:8080/",
     "height": 435
    }
   },
   "outputs": [
    {
     "output_type": "display_data",
     "data": {
      "text/plain": [
       "<Figure size 640x480 with 1 Axes>"
      ],
      "image/png": "[encoded data removed]"
     },
     "metadata": {}
    }
   ],
   "source": [
    "from sklearn.linear_model import LogisticRegression\n",
    "mlutils.plot_2Ddata_with_boundary(LogisticRegression().fit(X,y).predict, X, y); plt.grid();"
   ]
  },
  {
   "cell_type": "code",
   "execution_count": 29,
   "metadata": {
    "id": "mr2Nuedj6ubB",
    "outputId": "8aff4c4f-aa82-41ea-99b8-92fe59dcb55a",
    "colab": {
     "base_uri": "https://localhost:8080/",
     "height": 435
    }
   },
   "outputs": [
    {
     "output_type": "display_data",
     "data": {
      "text/plain": [
       "<Figure size 640x480 with 1 Axes>"
      ],
      "image/png": "[encoded data removed]"
     },
     "metadata": {}
    }
   ],
   "source": [
    "from sklearn.tree import DecisionTreeClassifier\n",
    "mlutils.plot_2Ddata_with_boundary(DecisionTreeClassifier(max_depth=2).fit(X,y).predict, X, y); plt.grid();"
   ]
  },
  {
   "cell_type": "code",
   "execution_count": 28,
   "metadata": {
    "id": "IpwLqKHH6ubC",
    "outputId": "7243c467-4502-4f91-9eb9-e53f6313363d",
    "colab": {
     "base_uri": "https://localhost:8080/",
     "height": 435
    }
   },
   "outputs": [
    {
     "output_type": "display_data",
     "data": {
      "text/plain": [
       "<Figure size 640x480 with 1 Axes>"
      ],
      "image/png": "[encoded data removed]"
     },
     "metadata": {}
    }
   ],
   "source": [
    "from sklearn.svm import SVC\n",
    "mlutils.plot_2Ddata_with_boundary(SVC(gamma=50).fit(X,y).predict, X, y); plt.grid();"
   ]
  },
  {
   "cell_type": "code",
   "execution_count": null,
   "metadata": {
    "id": "1f_27jJs6ubC"
   },
   "outputs": [],
   "source": []
  },
  {
   "cell_type": "markdown",
   "metadata": {
    "id": "75e-nx366ubC"
   },
   "source": [
    "**submit your answer**"
   ]
  },
  {
   "cell_type": "code",
   "execution_count": 45,
   "metadata": {
    "id": "b9PPRd6c6ubC",
    "outputId": "843b7a14-e493-4d0a-eb73-4e201dbae868",
    "colab": {
     "base_uri": "https://localhost:8080/",
     "height": 109
    }
   },
   "outputs": [
    {
     "output_type": "display_data",
     "data": {
      "text/plain": [
       "<IPython.core.display.HTML object>"
      ],
      "text/html": [
       "\n",
       "                    <b>task_01 submitted.</b> <b><font color=\"blue\">your grade is 5</font></b> \n",
       "                    <p/><pre>----- grader message -------</pre><b>correct</b><pre>----------------------------</pre>\n",
       "                    <p/><p/>\n",
       "                    <div style=\"font-size:10px\"><b>SUBMISSION CODE</b> 5Q/8zNoz7naW7Ydb1Z/PyrQ5V9iVpHSA3qV3950zTGfIaR7vOLxFOMnKZ1EeYid/eKJXRta7XTOiarrSZeZAt1ij++wlwSM/QKkBLeOskEahLR47RofStikY0aH+JyFlHZc9C7PjnPhMFpunEVFhNzGjTYsbOgcoJLznFmZ7Vp0=</div>\n",
       "                    "
      ]
     },
     "metadata": {}
    }
   ],
   "source": [
    "student.submit_task(globals(), task_id=\"task_01\");"
   ]
  },
  {
   "cell_type": "markdown",
   "metadata": {
    "id": "qxZG4obv6ubD"
   },
   "source": [
    "## Task 2. Fit the model\n",
    "\n",
    "Given a set of annotated data $X$, $y$ and the **model template** of the previous exercise, complete the following function that returns $\\theta_0$ and $\\theta_1$ that produce the **best accuracy** on the given `X` and `y`. Consider only $\\theta_0$ and $\\theta_1$ with **one decimal number between 0 and 1**.\n",
    "\n",
    "**Hint**: use a brute force approach, consider all combinations of $\\theta_0$ and $\\theta_1 \\in$ [0.0, 0.1, 0.2, 0.3, 0.4, 0.5, 0.6, 0.7, 0.8, 0.9, 1.0]. Use [`np.linspace`](https://numpy.org/doc/stable/reference/generated/numpy.linspace.html) and [`itertools.product`](https://docs.python.org/3/library/itertools.html#itertools.product)\n",
    "\n",
    "Your function must return an `numpy` array with two elements, the resulting $\\theta_0$ and $\\theta_1$"
   ]
  },
  {
   "cell_type": "code",
   "execution_count": 64,
   "metadata": {
    "id": "-gHVme_c6ubD"
   },
   "outputs": [],
   "source": [
    "import itertools\n",
    "\n",
    "\n",
    "def fit(X,y):\n",
    "    max_accuracy = 0\n",
    "    best_t = None\n",
    "\n",
    "    def predict(X, t):\n",
    "      return np.logical_not(np.logical_and(X[: , 0] < t[0] , X[: , 1] > t[1])).astype(int)\n",
    "\n",
    "    for t0, t1 in itertools.product(np.linspace(0,1,11), np.linspace(0,1,11)):\n",
    "        y_hat = predict(X, np.array([t0,t1]))\n",
    "        accuracy = np.mean(y==y_hat)\n",
    "        if accuracy > max_accuracy:\n",
    "            max_accuracy = accuracy\n",
    "            best_t = np.array([t0,t1])\n",
    "    return best_t\n",
    "\n"
   ]
  },
  {
   "cell_type": "code",
   "execution_count": 62,
   "metadata": {
    "id": "5OwynrwS6ubD",
    "outputId": "98c20060-de42-432f-9a61-b1113093bb1f",
    "colab": {
     "base_uri": "https://localhost:8080/"
    }
   },
   "outputs": [
    {
     "output_type": "execute_result",
     "data": {
      "text/plain": [
       "array([0.6, 0.2])"
      ]
     },
     "metadata": {},
     "execution_count": 62
    }
   ],
   "source": [
    "t = fit(X,y)\n",
    "t"
   ]
  },
  {
   "cell_type": "markdown",
   "metadata": {
    "id": "m0L_AX8E6ubE"
   },
   "source": [
    "Check your solution with the code below. The `t` returned by your function should produce an accuracy of 0.9 with the example data `X`, `y`. There might be several `t` producing the same accuracy, you just have to return any of those."
   ]
  },
  {
   "cell_type": "code",
   "execution_count": 51,
   "metadata": {
    "id": "GNmGe4396ubE",
    "outputId": "3b4a8ddc-5ee8-4f3b-97c6-4e94b30d7bdf",
    "colab": {
     "base_uri": "https://localhost:8080/",
     "height": 452
    }
   },
   "outputs": [
    {
     "output_type": "execute_result",
     "data": {
      "text/plain": [
       "0.9"
      ]
     },
     "metadata": {},
     "execution_count": 51
    },
    {
     "output_type": "display_data",
     "data": {
      "text/plain": [
       "<Figure size 640x480 with 1 Axes>"
      ],
      "image/png": "[encoded data removed]"
     },
     "metadata": {}
    }
   ],
   "source": [
    "mlutils.plot_2Ddata_with_boundary(lambda X: predict(X,t), X, y); plt.grid();\n",
    "np.mean(y==predict(X,t))"
   ]
  },
  {
   "cell_type": "markdown",
   "metadata": {
    "id": "Ypdh97WH6ubE"
   },
   "source": [
    "you can also use your model on different data. Execute the next cells several times to see the effect on different datasets."
   ]
  },
  {
   "cell_type": "code",
   "execution_count": 52,
   "metadata": {
    "id": "gB2c-j4V6ubF"
   },
   "outputs": [],
   "source": [
    "from sklearn.datasets import make_blobs\n",
    "from sklearn.preprocessing import MinMaxScaler\n",
    "\n",
    "bX, by = make_blobs(100,n_features=2, centers=2)\n",
    "bX = MinMaxScaler(feature_range=(0.1,.9)).fit_transform(bX)"
   ]
  },
  {
   "cell_type": "code",
   "execution_count": 53,
   "metadata": {
    "id": "2rBToXiy6ubF"
   },
   "outputs": [],
   "source": [
    "bt = fit(bX, by)"
   ]
  },
  {
   "cell_type": "code",
   "execution_count": 54,
   "metadata": {
    "id": "Xnp4_Isy6ubG",
    "outputId": "169c35b7-1e00-47e5-ecd7-3df441a6c0c8",
    "colab": {
     "base_uri": "https://localhost:8080/",
     "height": 447
    }
   },
   "outputs": [
    {
     "output_type": "execute_result",
     "data": {
      "text/plain": [
       "0.57"
      ]
     },
     "metadata": {},
     "execution_count": 54
    },
    {
     "output_type": "display_data",
     "data": {
      "text/plain": [
       "<Figure size 640x480 with 1 Axes>"
      ],
      "image/png": "[encoded data removed]"
     },
     "metadata": {}
    }
   ],
   "source": [
    "mlutils.plot_2Ddata_with_boundary(lambda X: predict(X,bt), bX, by); plt.grid();\n",
    "np.mean(by==predict(bX,bt))"
   ]
  },
  {
   "cell_type": "markdown",
   "metadata": {
    "id": "J4zAHooz6ubH"
   },
   "source": [
    "**submit your answer**"
   ]
  },
  {
   "cell_type": "code",
   "execution_count": 65,
   "metadata": {
    "id": "wJ7GZ87t6ubH",
    "outputId": "f2aebaaa-35d5-4cf2-cfaa-c91de434dec4",
    "colab": {
     "base_uri": "https://localhost:8080/",
     "height": 109
    }
   },
   "outputs": [
    {
     "output_type": "display_data",
     "data": {
      "text/plain": [
       "<IPython.core.display.HTML object>"
      ],
      "text/html": [
       "\n",
       "                    <b>task_02 submitted.</b> <b><font color=\"blue\">your grade is 5</font></b> \n",
       "                    <p/><pre>----- grader message -------</pre><b>correct</b><pre>----------------------------</pre>\n",
       "                    <p/><p/>\n",
       "                    <div style=\"font-size:10px\"><b>SUBMISSION CODE</b> +WOVC2AP4C961bUglsJHmFQGxH8q1eIv3mVroVSM62nkAHB+P7kM8dj2A0S3/3jyZRkEkZcTsGdCtYmKJsArxbKFdw5eJIp5gYRUcTvI4qrBVYZvTd0Y6VNzHuV3TrIFqTvkirH3jkrpUMRu/l/Z1zS/7R3xn3vEjicdLpWHzxM=</div>\n",
       "                    "
      ]
     },
     "metadata": {}
    }
   ],
   "source": [
    "student.submit_task(globals(), task_id=\"task_02\");"
   ]
  },
  {
   "cell_type": "code",
   "execution_count": null,
   "metadata": {
    "id": "IS3o-kd96ubI"
   },
   "outputs": [],
   "source": []
  },
  {
   "cell_type": "markdown",
   "metadata": {
    "id": "SitshHhK6ubI"
   },
   "source": [
    "## Task 3: Make an `sklearn` compatible class with your model\n",
    "\n",
    "organize the previous methods in the following class structure. Bear in mind that:\n",
    "\n",
    "- the `fit` method now does not return `t`, which is now stored in an instance variable `self.t`\n",
    "- the `fit` method must now return `self`.\n",
    "- the `predict` method now does not accept `t` as argument, it must use the one stored in `self.t`"
   ]
  },
  {
   "cell_type": "code",
   "execution_count": 68,
   "metadata": {
    "id": "6CNxRTuM6ubI"
   },
   "outputs": [],
   "source": [
    "def SimpleModel():\n",
    "    class _SimpleModel:\n",
    "\n",
    "        def __init__(self):\n",
    "            self.t = None\n",
    "            pass\n",
    "\n",
    "        def fit(self, X, y):\n",
    "            max_accuracy = 0\n",
    "            best_t = None\n",
    "\n",
    "            for t0, t1 in itertools.product(np.linspace(0,1,11), np.linspace(0,1,11)):\n",
    "                y_hat = np.logical_not(np.logical_and(X[: , 0] < t0 , X[: , 1] > t1)).astype(int)\n",
    "                accuracy = np.mean(y==y_hat)\n",
    "                if accuracy > max_accuracy:\n",
    "                    max_accuracy = accuracy\n",
    "                    best_t = np.array([t0,t1])\n",
    "            self.t = best_t\n",
    "            return self\n",
    "\n",
    "        def predict(self, X):\n",
    "            return np.logical_not(np.logical_and(X[: , 0] < self.t[0] , X[: , 1] > self.t[1])).astype(int)\n",
    "\n",
    "    return _SimpleModel()"
   ]
  },
  {
   "cell_type": "code",
   "execution_count": 69,
   "metadata": {
    "id": "9EQfEkVo6ubJ",
    "outputId": "07a09ef5-07a3-4b08-c19a-1fc444afce82",
    "colab": {
     "base_uri": "https://localhost:8080/"
    }
   },
   "outputs": [
    {
     "output_type": "execute_result",
     "data": {
      "text/plain": [
       "array([0, 1, 0, 0, 1, 0, 0, 0, 1, 0, 0, 1, 0, 1, 0, 1, 1, 1, 0, 0])"
      ]
     },
     "metadata": {},
     "execution_count": 69
    }
   ],
   "source": [
    "m = SimpleModel()\n",
    "m.fit(X,y)\n",
    "m.predict(X)"
   ]
  },
  {
   "cell_type": "code",
   "execution_count": 70,
   "metadata": {
    "id": "0akrFPiq6ubK",
    "outputId": "8f8380bd-65f2-41b6-d885-c056082b59b6",
    "colab": {
     "base_uri": "https://localhost:8080/",
     "height": 452
    }
   },
   "outputs": [
    {
     "output_type": "execute_result",
     "data": {
      "text/plain": [
       "0.9"
      ]
     },
     "metadata": {},
     "execution_count": 70
    },
    {
     "output_type": "display_data",
     "data": {
      "text/plain": [
       "<Figure size 640x480 with 1 Axes>"
      ],
      "image/png": "[encoded data removed]"
     },
     "metadata": {}
    }
   ],
   "source": [
    "mlutils.plot_2Ddata_with_boundary(m.predict, X, y); plt.grid();\n",
    "np.mean(y==m.predict(X))"
   ]
  },
  {
   "cell_type": "markdown",
   "metadata": {
    "id": "Bsqj3XEQ6ubL"
   },
   "source": [
    "check your model with different parametrizations of the `moons` dataset (more and less data points, more and less noise)"
   ]
  },
  {
   "cell_type": "code",
   "execution_count": 71,
   "metadata": {
    "id": "EKq7Hydp6ubL",
    "outputId": "5b37dda0-a28b-473b-9d1e-9d3eb797fad9",
    "colab": {
     "base_uri": "https://localhost:8080/",
     "height": 447
    }
   },
   "outputs": [
    {
     "output_type": "execute_result",
     "data": {
      "text/plain": [
       "0.87"
      ]
     },
     "metadata": {},
     "execution_count": 71
    },
    {
     "output_type": "display_data",
     "data": {
      "text/plain": [
       "<Figure size 640x480 with 1 Axes>"
      ],
      "image/png": "[encoded data removed]"
     },
     "metadata": {}
    }
   ],
   "source": [
    "from sklearn.datasets import make_moons\n",
    "\n",
    "mX, my = make_moons(100, noise=.1)\n",
    "m = SimpleModel()\n",
    "m.fit(mX,my)\n",
    "\n",
    "mlutils.plot_2Ddata_with_boundary(m.predict, mX, my); plt.grid();\n",
    "np.mean(my==m.predict(mX))"
   ]
  },
  {
   "cell_type": "markdown",
   "metadata": {
    "id": "4pTP38OK6ubL"
   },
   "source": [
    "**submit your answer**"
   ]
  },
  {
   "cell_type": "code",
   "execution_count": 72,
   "metadata": {
    "id": "oqc74VOn6ubM",
    "outputId": "17ab1dc5-6e75-4a42-ee00-77186d42debc",
    "colab": {
     "base_uri": "https://localhost:8080/",
     "height": 109
    }
   },
   "outputs": [
    {
     "output_type": "display_data",
     "data": {
      "text/plain": [
       "<IPython.core.display.HTML object>"
      ],
      "text/html": [
       "\n",
       "                    <b>task_03 submitted.</b> <b><font color=\"blue\">your grade is 5</font></b> \n",
       "                    <p/><pre>----- grader message -------</pre><b>correct</b><pre>----------------------------</pre>\n",
       "                    <p/><p/>\n",
       "                    <div style=\"font-size:10px\"><b>SUBMISSION CODE</b> bOHPzmqv2elwd1F0WUhFS7VLsDTcmEqMcpHi+zUfzx5iG9HtgbyFHB4fh4Ghesf08U0AnfsN3X0xodUK14qBnhTOoiZcZr3ShySSvTlLLJXm73G8+6cQ6tNHrki+fH+IKXICYvV+8/orn5yKoHvaYkGWml2yMIYYLTzGCqWAvSA=</div>\n",
       "                    "
      ]
     },
     "metadata": {}
    }
   ],
   "source": [
    "student.submit_task(globals(), task_id=\"task_03\");"
   ]
  },
  {
   "cell_type": "code",
   "execution_count": null,
   "metadata": {
    "id": "3EhoJ3CD6ubM"
   },
   "outputs": [],
   "source": []
  }
 ],
 "metadata": {
  "kernelspec": {
   "display_name": "Python 3",
   "language": "python",
   "name": "python3"
  },
  "language_info": {
   "codemirror_mode": {
    "name": "ipython",
    "version": 3
   },
   "file_extension": ".py",
   "mimetype": "text/x-python",
   "name": "python",
   "nbconvert_exporter": "python",
   "pygments_lexer": "ipython3",
   "version": "3.7.3"
  },
  "colab": {
   "provenance": []
  },
  "widgets": {
   "application/vnd.jupyter.widget-state+json": {
    "a9019c7e6b10412ba304ab3c6b837d90": {
     "model_module": "@jupyter-widgets/controls",
     "model_name": "HBoxModel",
     "model_module_version": "1.5.0",
     "state": {
      "_dom_classes": [],
      "_model_module": "@jupyter-widgets/controls",
      "_model_module_version": "1.5.0",
      "_model_name": "HBoxModel",
      "_view_count": null,
      "_view_module": "@jupyter-widgets/controls",
      "_view_module_version": "1.5.0",
      "_view_name": "HBoxView",
      "box_style": "",
      "children": [
       "IPY_MODEL_4d9155ff331d4a73812e0b86bf18608c",
       "IPY_MODEL_0835a1c15a9d47299f5f403b24357d23",
       "IPY_MODEL_00e37145d47b421b81fabe5fe55d4a17",
       "IPY_MODEL_3cce66aa441744c2a72247bee36351b9"
      ],
      "layout": "IPY_MODEL_217f6c9de0314a5eb2a1767239712dd2"
     }
    },
    "4d9155ff331d4a73812e0b86bf18608c": {
     "model_module": "@jupyter-widgets/controls",
     "model_name": "VBoxModel",
     "model_module_version": "1.5.0",
     "state": {
      "_dom_classes": [],
      "_model_module": "@jupyter-widgets/controls",
      "_model_module_version": "1.5.0",
      "_model_name": "VBoxModel",
      "_view_count": null,
      "_view_module": "@jupyter-widgets/controls",
      "_view_module_version": "1.5.0",
      "_view_name": "VBoxView",
      "box_style": "",
      "children": [
       "IPY_MODEL_d854f7f8e2ba47c7b352da57426a0ee4",
       "IPY_MODEL_1a66e89fcbf4488283459c10f443ad22"
      ],
      "layout": "IPY_MODEL_f3140cb3005e47c4a8088c674f71ead4"
     }
    },
    "0835a1c15a9d47299f5f403b24357d23": {
     "model_module": "@jupyter-widgets/controls",
     "model_name": "ButtonModel",
     "model_module_version": "1.5.0",
     "state": {
      "_dom_classes": [
       "login_button"
      ],
      "_model_module": "@jupyter-widgets/controls",
      "_model_module_version": "1.5.0",
      "_model_name": "ButtonModel",
      "_view_count": null,
      "_view_module": "@jupyter-widgets/controls",
      "_view_module_version": "1.5.0",
      "_view_name": "ButtonView",
      "button_style": "",
      "description": "Login with email",
      "disabled": false,
      "icon": "",
      "layout": "IPY_MODEL_5e49351d139b4d98a19aa4322caec124",
      "style": "IPY_MODEL_a88ef7998e93483c88d81875b647a2e0",
      "tooltip": ""
     }
    },
    "00e37145d47b421b81fabe5fe55d4a17": {
     "model_module": "@jupyter-widgets/controls",
     "model_name": "HTMLModel",
     "model_module_version": "1.5.0",
     "state": {
      "_dom_classes": [],
      "_model_module": "@jupyter-widgets/controls",
      "_model_module_version": "1.5.0",
      "_model_name": "HTMLModel",
      "_view_count": null,
      "_view_module": "@jupyter-widgets/controls",
      "_view_module_version": "1.5.0",
      "_view_name": "HTMLView",
      "description": "",
      "description_tooltip": null,
      "layout": "IPY_MODEL_c8becbf90fde4043967b85ffd4af574d",
      "placeholder": "​",
      "style": "IPY_MODEL_51db149c78374dc6a55b30a298ac2833",
      "value": "<center><big>or</big></center>"
     }
    },
    "3cce66aa441744c2a72247bee36351b9": {
     "model_module": "@jupyter-widgets/controls",
     "model_name": "ButtonModel",
     "model_module_version": "1.5.0",
     "state": {
      "_dom_classes": [
       "google_button"
      ],
      "_model_module": "@jupyter-widgets/controls",
      "_model_module_version": "1.5.0",
      "_model_name": "ButtonModel",
      "_view_count": null,
      "_view_module": "@jupyter-widgets/controls",
      "_view_module_version": "1.5.0",
      "_view_name": "ButtonView",
      "button_style": "",
      "description": "Login with Google",
      "disabled": false,
      "icon": "",
      "layout": "IPY_MODEL_2c40139909d04e3eafde361292c80401",
      "style": "IPY_MODEL_a5817afff73b45ec924d35ecbc4d9e37",
      "tooltip": ""
     }
    },
    "217f6c9de0314a5eb2a1767239712dd2": {
     "model_module": "@jupyter-widgets/base",
     "model_name": "LayoutModel",
     "model_module_version": "1.2.0",
     "state": {
      "_model_module": "@jupyter-widgets/base",
      "_model_module_version": "1.2.0",
      "_model_name": "LayoutModel",
      "_view_count": null,
      "_view_module": "@jupyter-widgets/base",
      "_view_module_version": "1.2.0",
      "_view_name": "LayoutView",
      "align_content": null,
      "align_items": null,
      "align_self": null,
      "border": null,
      "bottom": null,
      "display": null,
      "flex": null,
      "flex_flow": null,
      "grid_area": null,
      "grid_auto_columns": null,
      "grid_auto_flow": null,
      "grid_auto_rows": null,
      "grid_column": null,
      "grid_gap": null,
      "grid_row": null,
      "grid_template_areas": null,
      "grid_template_columns": null,
      "grid_template_rows": null,
      "height": null,
      "justify_content": null,
      "justify_items": null,
      "left": null,
      "margin": null,
      "max_height": null,
      "max_width": null,
      "min_height": null,
      "min_width": null,
      "object_fit": null,
      "object_position": null,
      "order": null,
      "overflow": null,
      "overflow_x": null,
      "overflow_y": null,
      "padding": null,
      "right": null,
      "top": null,
      "visibility": null,
      "width": null
     }
    },
    "d854f7f8e2ba47c7b352da57426a0ee4": {
     "model_module": "@jupyter-widgets/controls",
     "model_name": "TextModel",
     "model_module_version": "1.5.0",
     "state": {
      "_dom_classes": [],
      "_model_module": "@jupyter-widgets/controls",
      "_model_module_version": "1.5.0",
      "_model_name": "TextModel",
      "_view_count": null,
      "_view_module": "@jupyter-widgets/controls",
      "_view_module_version": "1.5.0",
      "_view_name": "TextView",
      "continuous_update": true,
      "description": "email",
      "description_tooltip": null,
      "disabled": false,
      "layout": "IPY_MODEL_58d7ca185ac84101bfe652b53bb03fbf",
      "placeholder": "​",
      "style": "IPY_MODEL_87f33592d63c44de968bbaf41ce49ebe",
      "value": "dimolinas@unal.edu.co"
     }
    },
    "1a66e89fcbf4488283459c10f443ad22": {
     "model_module": "@jupyter-widgets/controls",
     "model_name": "PasswordModel",
     "model_module_version": "1.5.0",
     "state": {
      "_dom_classes": [],
      "_model_module": "@jupyter-widgets/controls",
      "_model_module_version": "1.5.0",
      "_model_name": "PasswordModel",
      "_view_count": null,
      "_view_module": "@jupyter-widgets/controls",
      "_view_module_version": "1.5.0",
      "_view_name": "PasswordView",
      "continuous_update": true,
      "description": "password",
      "description_tooltip": null,
      "disabled": false,
      "layout": "IPY_MODEL_d6363069995e4956b5388cef6fa4d35d",
      "placeholder": "​",
      "style": "IPY_MODEL_9b81db215a3c40408bd7b1299985d955",
      "value": "wynwer-Qoshob-6wirce"
     }
    },
    "f3140cb3005e47c4a8088c674f71ead4": {
     "model_module": "@jupyter-widgets/base",
     "model_name": "LayoutModel",
     "model_module_version": "1.2.0",
     "state": {
      "_model_module": "@jupyter-widgets/base",
      "_model_module_version": "1.2.0",
      "_model_name": "LayoutModel",
      "_view_count": null,
      "_view_module": "@jupyter-widgets/base",
      "_view_module_version": "1.2.0",
      "_view_name": "LayoutView",
      "align_content": null,
      "align_items": null,
      "align_self": null,
      "border": null,
      "bottom": null,
      "display": null,
      "flex": null,
      "flex_flow": null,
      "grid_area": null,
      "grid_auto_columns": null,
      "grid_auto_flow": null,
      "grid_auto_rows": null,
      "grid_column": null,
      "grid_gap": null,
      "grid_row": null,
      "grid_template_areas": null,
      "grid_template_columns": null,
      "grid_template_rows": null,
      "height": null,
      "justify_content": null,
      "justify_items": null,
      "left": null,
      "margin": null,
      "max_height": null,
      "max_width": null,
      "min_height": null,
      "min_width": null,
      "object_fit": null,
      "object_position": null,
      "order": null,
      "overflow": null,
      "overflow_x": null,
      "overflow_y": null,
      "padding": null,
      "right": null,
      "top": null,
      "visibility": null,
      "width": null
     }
    },
    "5e49351d139b4d98a19aa4322caec124": {
     "model_module": "@jupyter-widgets/base",
     "model_name": "LayoutModel",
     "model_module_version": "1.2.0",
     "state": {
      "_model_module": "@jupyter-widgets/base",
      "_model_module_version": "1.2.0",
      "_model_name": "LayoutModel",
      "_view_count": null,
      "_view_module": "@jupyter-widgets/base",
      "_view_module_version": "1.2.0",
      "_view_name": "LayoutView",
      "align_content": null,
      "align_items": null,
      "align_self": null,
      "border": null,
      "bottom": null,
      "display": null,
      "flex": null,
      "flex_flow": null,
      "grid_area": null,
      "grid_auto_columns": null,
      "grid_auto_flow": null,
      "grid_auto_rows": null,
      "grid_column": null,
      "grid_gap": null,
      "grid_row": null,
      "grid_template_areas": null,
      "grid_template_columns": null,
      "grid_template_rows": null,
      "height": "53px",
      "justify_content": null,
      "justify_items": null,
      "left": null,
      "margin": null,
      "max_height": null,
      "max_width": null,
      "min_height": null,
      "min_width": null,
      "object_fit": null,
      "object_position": null,
      "order": null,
      "overflow": null,
      "overflow_x": null,
      "overflow_y": null,
      "padding": null,
      "right": null,
      "top": null,
      "visibility": null,
      "width": "150px"
     }
    },
    "a88ef7998e93483c88d81875b647a2e0": {
     "model_module": "@jupyter-widgets/controls",
     "model_name": "ButtonStyleModel",
     "model_module_version": "1.5.0",
     "state": {
      "_model_module": "@jupyter-widgets/controls",
      "_model_module_version": "1.5.0",
      "_model_name": "ButtonStyleModel",
      "_view_count": null,
      "_view_module": "@jupyter-widgets/base",
      "_view_module_version": "1.2.0",
      "_view_name": "StyleView",
      "button_color": null,
      "font_weight": ""
     }
    },
    "c8becbf90fde4043967b85ffd4af574d": {
     "model_module": "@jupyter-widgets/base",
     "model_name": "LayoutModel",
     "model_module_version": "1.2.0",
     "state": {
      "_model_module": "@jupyter-widgets/base",
      "_model_module_version": "1.2.0",
      "_model_name": "LayoutModel",
      "_view_count": null,
      "_view_module": "@jupyter-widgets/base",
      "_view_module_version": "1.2.0",
      "_view_name": "LayoutView",
      "align_content": null,
      "align_items": null,
      "align_self": null,
      "border": null,
      "bottom": null,
      "display": null,
      "flex": null,
      "flex_flow": null,
      "grid_area": null,
      "grid_auto_columns": null,
      "grid_auto_flow": null,
      "grid_auto_rows": null,
      "grid_column": null,
      "grid_gap": null,
      "grid_row": null,
      "grid_template_areas": null,
      "grid_template_columns": null,
      "grid_template_rows": null,
      "height": null,
      "justify_content": null,
      "justify_items": null,
      "left": null,
      "margin": null,
      "max_height": null,
      "max_width": null,
      "min_height": null,
      "min_width": null,
      "object_fit": null,
      "object_position": null,
      "order": null,
      "overflow": null,
      "overflow_x": null,
      "overflow_y": null,
      "padding": null,
      "right": null,
      "top": null,
      "visibility": null,
      "width": "100px"
     }
    },
    "51db149c78374dc6a55b30a298ac2833": {
     "model_module": "@jupyter-widgets/controls",
     "model_name": "DescriptionStyleModel",
     "model_module_version": "1.5.0",
     "state": {
      "_model_module": "@jupyter-widgets/controls",
      "_model_module_version": "1.5.0",
      "_model_name": "DescriptionStyleModel",
      "_view_count": null,
      "_view_module": "@jupyter-widgets/base",
      "_view_module_version": "1.2.0",
      "_view_name": "StyleView",
      "description_width": ""
     }
    },
    "2c40139909d04e3eafde361292c80401": {
     "model_module": "@jupyter-widgets/base",
     "model_name": "LayoutModel",
     "model_module_version": "1.2.0",
     "state": {
      "_model_module": "@jupyter-widgets/base",
      "_model_module_version": "1.2.0",
      "_model_name": "LayoutModel",
      "_view_count": null,
      "_view_module": "@jupyter-widgets/base",
      "_view_module_version": "1.2.0",
      "_view_name": "LayoutView",
      "align_content": null,
      "align_items": null,
      "align_self": null,
      "border": null,
      "bottom": null,
      "display": null,
      "flex": null,
      "flex_flow": null,
      "grid_area": null,
      "grid_auto_columns": null,
      "grid_auto_flow": null,
      "grid_auto_rows": null,
      "grid_column": null,
      "grid_gap": null,
      "grid_row": null,
      "grid_template_areas": null,
      "grid_template_columns": null,
      "grid_template_rows": null,
      "height": "53px",
      "justify_content": null,
      "justify_items": null,
      "left": null,
      "margin": null,
      "max_height": null,
      "max_width": null,
      "min_height": null,
      "min_width": null,
      "object_fit": null,
      "object_position": null,
      "order": null,
      "overflow": null,
      "overflow_x": null,
      "overflow_y": null,
      "padding": null,
      "right": null,
      "top": null,
      "visibility": null,
      "width": "200px"
     }
    },
    "a5817afff73b45ec924d35ecbc4d9e37": {
     "model_module": "@jupyter-widgets/controls",
     "model_name": "ButtonStyleModel",
     "model_module_version": "1.5.0",
     "state": {
      "_model_module": "@jupyter-widgets/controls",
      "_model_module_version": "1.5.0",
      "_model_name": "ButtonStyleModel",
      "_view_count": null,
      "_view_module": "@jupyter-widgets/base",
      "_view_module_version": "1.2.0",
      "_view_name": "StyleView",
      "button_color": null,
      "font_weight": ""
     }
    },
    "58d7ca185ac84101bfe652b53bb03fbf": {
     "model_module": "@jupyter-widgets/base",
     "model_name": "LayoutModel",
     "model_module_version": "1.2.0",
     "state": {
      "_model_module": "@jupyter-widgets/base",
      "_model_module_version": "1.2.0",
      "_model_name": "LayoutModel",
      "_view_count": null,
      "_view_module": "@jupyter-widgets/base",
      "_view_module_version": "1.2.0",
      "_view_name": "LayoutView",
      "align_content": null,
      "align_items": null,
      "align_self": null,
      "border": null,
      "bottom": null,
      "display": null,
      "flex": null,
      "flex_flow": null,
      "grid_area": null,
      "grid_auto_columns": null,
      "grid_auto_flow": null,
      "grid_auto_rows": null,
      "grid_column": null,
      "grid_gap": null,
      "grid_row": null,
      "grid_template_areas": null,
      "grid_template_columns": null,
      "grid_template_rows": null,
      "height": "25px",
      "justify_content": null,
      "justify_items": null,
      "left": null,
      "margin": null,
      "max_height": null,
      "max_width": null,
      "min_height": null,
      "min_width": null,
      "object_fit": null,
      "object_position": null,
      "order": null,
      "overflow": null,
      "overflow_x": null,
      "overflow_y": null,
      "padding": null,
      "right": null,
      "top": null,
      "visibility": null,
      "width": "300px"
     }
    },
    "87f33592d63c44de968bbaf41ce49ebe": {
     "model_module": "@jupyter-widgets/controls",
     "model_name": "DescriptionStyleModel",
     "model_module_version": "1.5.0",
     "state": {
      "_model_module": "@jupyter-widgets/controls",
      "_model_module_version": "1.5.0",
      "_model_name": "DescriptionStyleModel",
      "_view_count": null,
      "_view_module": "@jupyter-widgets/base",
      "_view_module_version": "1.2.0",
      "_view_name": "StyleView",
      "description_width": ""
     }
    },
    "d6363069995e4956b5388cef6fa4d35d": {
     "model_module": "@jupyter-widgets/base",
     "model_name": "LayoutModel",
     "model_module_version": "1.2.0",
     "state": {
      "_model_module": "@jupyter-widgets/base",
      "_model_module_version": "1.2.0",
      "_model_name": "LayoutModel",
      "_view_count": null,
      "_view_module": "@jupyter-widgets/base",
      "_view_module_version": "1.2.0",
      "_view_name": "LayoutView",
      "align_content": null,
      "align_items": null,
      "align_self": null,
      "border": null,
      "bottom": null,
      "display": null,
      "flex": null,
      "flex_flow": null,
      "grid_area": null,
      "grid_auto_columns": null,
      "grid_auto_flow": null,
      "grid_auto_rows": null,
      "grid_column": null,
      "grid_gap": null,
      "grid_row": null,
      "grid_template_areas": null,
      "grid_template_columns": null,
      "grid_template_rows": null,
      "height": "24px",
      "justify_content": null,
      "justify_items": null,
      "left": null,
      "margin": null,
      "max_height": null,
      "max_width": null,
      "min_height": null,
      "min_width": null,
      "object_fit": null,
      "object_position": null,
      "order": null,
      "overflow": null,
      "overflow_x": null,
      "overflow_y": null,
      "padding": null,
      "right": null,
      "top": null,
      "visibility": null,
      "width": "300px"
     }
    },
    "9b81db215a3c40408bd7b1299985d955": {
     "model_module": "@jupyter-widgets/controls",
     "model_name": "DescriptionStyleModel",
     "model_module_version": "1.5.0",
     "state": {
      "_model_module": "@jupyter-widgets/controls",
      "_model_module_version": "1.5.0",
      "_model_name": "DescriptionStyleModel",
      "_view_count": null,
      "_view_module": "@jupyter-widgets/base",
      "_view_module_version": "1.2.0",
      "_view_name": "StyleView",
      "description_width": ""
     }
    }
   }
  }
 },
 "nbformat": 4,
 "nbformat_minor": 0
}
